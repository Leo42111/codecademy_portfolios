{
 "cells": [
  {
   "cell_type": "markdown",
   "metadata": {},
   "source": [
    "# U.S. Medical Insurance Costs"
   ]
  },
  {
   "cell_type": "markdown",
   "metadata": {},
   "source": [
    "## Introduction"
   ]
  },
  {
   "cell_type": "markdown",
   "metadata": {},
   "source": [
    "This project is to investigate a U.S. medical insurance cost database. In this database, each row of data contains the person's age, sex, BMI, number of children, if he/she is a smoker, region where he/she is from, and the insurance charges. This project will analyze the following:\n",
    "1. The age group distribution\n",
    "2. The region distribution\n",
    "3. The BMI distribution\n",
    "4. Does sex affect insurance charges?\n",
    "5. Does having children increases the insurance charges?\n",
    "6. Does smokers have higher insurance charges?"
   ]
  },
  {
   "cell_type": "markdown",
   "metadata": {},
   "source": [
    "## Code"
   ]
  },
  {
   "cell_type": "markdown",
   "metadata": {},
   "source": [
    "Import modules"
   ]
  },
  {
   "cell_type": "code",
   "execution_count": 1,
   "metadata": {},
   "outputs": [],
   "source": [
    "import csv\n",
    "from tabulate import tabulate\n",
    "import numpy as np"
   ]
  },
  {
   "cell_type": "markdown",
   "metadata": {},
   "source": [
    "Load CSV into an overall list"
   ]
  },
  {
   "cell_type": "code",
   "execution_count": 2,
   "metadata": {},
   "outputs": [],
   "source": [
    "insurance_data = []\n",
    "with open('insurance.csv') as insurance_csv:\n",
    "    insurance_reader = csv.DictReader(insurance_csv, delimiter=',')\n",
    "    for row in insurance_reader:\n",
    "        insurance_data.append(row)"
   ]
  },
  {
   "cell_type": "code",
   "execution_count": 3,
   "metadata": {},
   "outputs": [
    {
     "name": "stdout",
     "output_type": "stream",
     "text": [
      "1338\n"
     ]
    }
   ],
   "source": [
    "#print(insurance_data)\n",
    "print(len(insurance_data))"
   ]
  },
  {
   "cell_type": "markdown",
   "metadata": {},
   "source": [
    "There are 1338 rows in the dataset, i.e. 1338 person's data"
   ]
  },
  {
   "cell_type": "markdown",
   "metadata": {},
   "source": [
    "Creating lists of different attributes for analysis"
   ]
  },
  {
   "cell_type": "code",
   "execution_count": 4,
   "metadata": {},
   "outputs": [],
   "source": [
    "age_list = []\n",
    "bmi_list = []\n",
    "region_list = []\n",
    "\n",
    "for row in insurance_data:\n",
    "    age_list.append(int(row['age']))\n",
    "    bmi_list.append(float(row['bmi']))\n",
    "    region_list.append(row['region'])"
   ]
  },
  {
   "cell_type": "code",
   "execution_count": 5,
   "metadata": {},
   "outputs": [],
   "source": [
    "#print(age_list)"
   ]
  },
  {
   "cell_type": "markdown",
   "metadata": {},
   "source": [
    "### Investigation 1: The age group distribution"
   ]
  },
  {
   "cell_type": "markdown",
   "metadata": {},
   "source": [
    "First, we classify the data into different age groups and count the frequencies:\n",
    "\n",
    "Below 19, 20-29, 30-39, 40-49, 50-59, Above 60"
   ]
  },
  {
   "cell_type": "code",
   "execution_count": 6,
   "metadata": {},
   "outputs": [],
   "source": [
    "# Create dictionary to store distribution\n",
    "age_distribution = {'Below 19': 0,\n",
    "                    '20-29': 0,\n",
    "                    '30-39': 0,\n",
    "                    '40-49': 0,\n",
    "                    '50-59': 0,\n",
    "                    'Above 60': 0\n",
    "}\n",
    "\n",
    "# Count the frequencies for each age group\n",
    "for age in age_list:\n",
    "    if age <= 19:\n",
    "        age_distribution['Below 19'] += 1\n",
    "    elif age >= 20 and age <= 29:\n",
    "        age_distribution['20-29'] += 1\n",
    "    elif age >= 30 and age <= 39:\n",
    "        age_distribution['30-39'] += 1\n",
    "    elif age >= 40 and age <= 49:\n",
    "        age_distribution['40-49'] += 1\n",
    "    elif age >= 50 and age <= 59:\n",
    "        age_distribution['50-59'] += 1\n",
    "    elif age >= 60:\n",
    "        age_distribution['Above 60'] += 1"
   ]
  },
  {
   "cell_type": "markdown",
   "metadata": {},
   "source": [
    "The distribution is as follows:"
   ]
  },
  {
   "cell_type": "code",
   "execution_count": 7,
   "metadata": {},
   "outputs": [
    {
     "name": "stdout",
     "output_type": "stream",
     "text": [
      "Age Group      Count\n",
      "-----------  -------\n",
      "Below 19         137\n",
      "20-29            280\n",
      "30-39            257\n",
      "40-49            279\n",
      "50-59            271\n",
      "Above 60         114\n"
     ]
    }
   ],
   "source": [
    "print_list = []\n",
    "for k, v in age_distribution.items():\n",
    "    print_list.append([k, v])\n",
    "print(tabulate(print_list, headers=['Age Group', 'Count']))"
   ]
  },
  {
   "cell_type": "markdown",
   "metadata": {},
   "source": [
    "Also other statistics:"
   ]
  },
  {
   "cell_type": "code",
   "execution_count": 8,
   "metadata": {},
   "outputs": [
    {
     "name": "stdout",
     "output_type": "stream",
     "text": [
      "-------  ------\n",
      "mean     39.207\n",
      "median   39\n",
      "maximum  64\n",
      "minimum  18\n",
      "-------  ------\n"
     ]
    }
   ],
   "source": [
    "# Convert age list into numpy array for analysis\n",
    "age_np = np.array(age_list)\n",
    "\n",
    "age_np_tabulate = [['mean', np.average(age_np)],\n",
    "                   ['median', np.median(age_np)],\n",
    "                   ['maximum', np.amax(age_np)],\n",
    "                   ['minimum', np.amin(age_np)],\n",
    "]\n",
    "print(tabulate(age_np_tabulate))"
   ]
  },
  {
   "cell_type": "markdown",
   "metadata": {},
   "source": [
    "Based on the above information, in this database, most of the people are from age group 20-29, and the least people are from age group of above 60. The average age is around 39, while the maximum and minimum age are 64 and 18 respectively."
   ]
  },
  {
   "cell_type": "markdown",
   "metadata": {},
   "source": [
    "### Investigation 2: The region distribution"
   ]
  },
  {
   "cell_type": "markdown",
   "metadata": {},
   "source": [
    "First, we check the unique values in the region column in database:"
   ]
  },
  {
   "cell_type": "code",
   "execution_count": 9,
   "metadata": {},
   "outputs": [
    {
     "name": "stdout",
     "output_type": "stream",
     "text": [
      "['southwest', 'southeast', 'northwest', 'northeast']\n"
     ]
    }
   ],
   "source": [
    "unique_region_list = []\n",
    "for region in region_list:\n",
    "    if region not in unique_region_list:\n",
    "        unique_region_list.append(region)\n",
    "print(unique_region_list)"
   ]
  },
  {
   "cell_type": "markdown",
   "metadata": {},
   "source": [
    "Then, we count the number of people from each region:"
   ]
  },
  {
   "cell_type": "code",
   "execution_count": 10,
   "metadata": {},
   "outputs": [],
   "source": [
    "# Create dictionary to store distribution\n",
    "region_distribution = {'northeast': 0,\n",
    "                    'southeast': 0,\n",
    "                    'southwest': 0,\n",
    "                    'northwest': 0\n",
    "}\n",
    "\n",
    "# Count the frequencies for each region group\n",
    "for region in region_list:\n",
    "    region_distribution[region] += 1"
   ]
  },
  {
   "cell_type": "markdown",
   "metadata": {},
   "source": [
    "The distribution is as follows:"
   ]
  },
  {
   "cell_type": "code",
   "execution_count": 11,
   "metadata": {},
   "outputs": [
    {
     "name": "stdout",
     "output_type": "stream",
     "text": [
      "Region       Count\n",
      "---------  -------\n",
      "northeast      324\n",
      "southeast      364\n",
      "southwest      325\n",
      "northwest      325\n"
     ]
    }
   ],
   "source": [
    "print_list = []\n",
    "for k, v in region_distribution.items():\n",
    "    print_list.append([k, v])\n",
    "print(tabulate(print_list, headers=['Region', 'Count']))"
   ]
  },
  {
   "cell_type": "markdown",
   "metadata": {},
   "source": [
    "According to the table above, most people are from southeast region, with the total of 364 people. The number of people from northeast, southwest and northwest are roughly the same."
   ]
  },
  {
   "cell_type": "markdown",
   "metadata": {},
   "source": [
    "### Investigation 3: The BMI distribution"
   ]
  },
  {
   "cell_type": "markdown",
   "metadata": {},
   "source": [
    "According to the Centers for Disease and Control website, the BMI classification is as follows:\n",
    "    \n",
    "BMI < 18.5 - underweight\n",
    "BMI between 18.5 & <25 - normal\n",
    "BMI between 25.0 & <30 - overweight\n",
    "BMI > 30.0 - obese"
   ]
  },
  {
   "cell_type": "code",
   "execution_count": 12,
   "metadata": {},
   "outputs": [],
   "source": [
    "# Create dictionary to store distribution\n",
    "bmi_distribution = {'underweight': 0,\n",
    "                    'normal': 0,\n",
    "                    'overweight': 0,\n",
    "                    'obese': 0\n",
    "}\n",
    "\n",
    "# Count the frequencies for each BMI group\n",
    "for bmi in bmi_list:\n",
    "    if bmi < 18.5:\n",
    "        bmi_distribution['underweight'] += 1\n",
    "    elif bmi < 25.0:\n",
    "        bmi_distribution['normal'] += 1\n",
    "    elif bmi < 30.0:\n",
    "        bmi_distribution['overweight'] += 1\n",
    "    elif bmi >= 30.0:\n",
    "        bmi_distribution['obese'] += 1"
   ]
  },
  {
   "cell_type": "markdown",
   "metadata": {},
   "source": [
    "The distribution is as follows:"
   ]
  },
  {
   "cell_type": "code",
   "execution_count": 13,
   "metadata": {},
   "outputs": [
    {
     "name": "stdout",
     "output_type": "stream",
     "text": [
      "BMI Classification      Count\n",
      "--------------------  -------\n",
      "underweight                20\n",
      "normal                    225\n",
      "overweight                386\n",
      "obese                     707\n"
     ]
    }
   ],
   "source": [
    "print_list = []\n",
    "for k, v in bmi_distribution.items():\n",
    "    print_list.append([k, v])\n",
    "print(tabulate(print_list, headers=['BMI Classification', 'Count']))"
   ]
  },
  {
   "cell_type": "markdown",
   "metadata": {},
   "source": [
    "According to the table above, 707 people fall into the obese category, which is over than half the people in this database.\n",
    "225 people belongs to the normal category, which is roughly 17% of the people in the dataset."
   ]
  },
  {
   "cell_type": "markdown",
   "metadata": {},
   "source": [
    "### Investigation 4: Does sex affect insurance charges?"
   ]
  },
  {
   "cell_type": "markdown",
   "metadata": {},
   "source": [
    "For this question, we can compare the mean and median insurance charges for male and female."
   ]
  },
  {
   "cell_type": "code",
   "execution_count": 14,
   "metadata": {},
   "outputs": [],
   "source": [
    "male_charges = []\n",
    "female_charges = []\n",
    "\n",
    "# sort the charges into male and female lists\n",
    "for row in insurance_data:\n",
    "    if row['sex'] == 'male':\n",
    "        male_charges.append(float(row['charges']))\n",
    "    elif row['sex'] == 'female':\n",
    "        female_charges.append(float(row['charges']))\n",
    "\n",
    "# convert lists into numpy arrays for analysis\n",
    "male_charges_np = np.array(male_charges)\n",
    "female_charges_np = np.array(female_charges)\n",
    "\n",
    "# calculate mean and median of male and female insurance charges\n",
    "male_mean = np.average(male_charges_np)\n",
    "female_mean = np.average(female_charges_np)\n",
    "male_median = np.median(male_charges_np)\n",
    "female_median = np.median(female_charges_np)"
   ]
  },
  {
   "cell_type": "markdown",
   "metadata": {},
   "source": [
    "Display results:"
   ]
  },
  {
   "cell_type": "code",
   "execution_count": 15,
   "metadata": {},
   "outputs": [
    {
     "name": "stdout",
     "output_type": "stream",
     "text": [
      "Average male insurance charges: 13956.751177721893\n",
      "Average female insurance charges: 12569.578843835347\n",
      "Median male insurance charges: 9369.61575\n",
      "Median female insurance charges: 9412.9625\n"
     ]
    }
   ],
   "source": [
    "print(\"Average male insurance charges: \" + str(male_mean))\n",
    "print(\"Average female insurance charges: \" + str(female_mean))\n",
    "print(\"Median male insurance charges: \" + str(male_median))\n",
    "print(\"Median female insurance charges: \" + str(female_median))"
   ]
  },
  {
   "cell_type": "markdown",
   "metadata": {},
   "source": [
    "The mean insurance charge for male is higher than that of female, but the median insurance charge for male is lower than that of female. It is not possible to conclude sex affects the insurance charges based on this dataset."
   ]
  },
  {
   "cell_type": "markdown",
   "metadata": {},
   "source": [
    "### Investigation 5: Does having children increases the insurance charges?"
   ]
  },
  {
   "cell_type": "markdown",
   "metadata": {},
   "source": [
    "For this question, we can compare the mean and median insurance charges for smokers and non-smokers."
   ]
  },
  {
   "cell_type": "code",
   "execution_count": 16,
   "metadata": {},
   "outputs": [],
   "source": [
    "no_children_charges = []\n",
    "have_children_charges = []\n",
    "\n",
    "# sort the charges into no children and with children lists\n",
    "for row in insurance_data:\n",
    "    if row['children'] == '0':\n",
    "        no_children_charges.append(float(row['charges']))\n",
    "    else:\n",
    "        have_children_charges.append(float(row['charges']))\n",
    "\n",
    "# convert lists into numpy arrays for analysis\n",
    "no_children_charges_np = np.array(no_children_charges)\n",
    "children_charges_np = np.array(have_children_charges)\n",
    "\n",
    "# calculate mean and median of no children and have children insurance charges\n",
    "no_children_mean = np.average(no_children_charges_np)\n",
    "have_children_mean = np.average(children_charges_np)\n",
    "no_children_median = np.median(no_children_charges_np)\n",
    "have_children_median = np.median(children_charges_np)"
   ]
  },
  {
   "cell_type": "markdown",
   "metadata": {},
   "source": [
    "Display results:"
   ]
  },
  {
   "cell_type": "code",
   "execution_count": 17,
   "metadata": {},
   "outputs": [
    {
     "name": "stdout",
     "output_type": "stream",
     "text": [
      "Average insurance charges without children: 12365.97560163589\n",
      "Average insurance charges with children: 13949.941093481675\n",
      "Median insurance charges without children: 9856.9519\n",
      "Median insurance charges with children: 9223.8295\n"
     ]
    }
   ],
   "source": [
    "print(\"Average insurance charges without children: \" + str(no_children_mean))\n",
    "print(\"Average insurance charges with children: \" + str(have_children_mean))\n",
    "print(\"Median insurance charges without children: \" + str(no_children_median))\n",
    "print(\"Median insurance charges with children: \" + str(have_children_median))"
   ]
  },
  {
   "cell_type": "markdown",
   "metadata": {},
   "source": [
    "Based on the results above, the average insurance charges without children is lower than that of those with children, but the median for those without children is higher. It is not possible to conclude having children increases the insurance charges based on this dataset."
   ]
  },
  {
   "cell_type": "markdown",
   "metadata": {},
   "source": [
    "### Investigation 6: Does smokers have higher insurance charges?"
   ]
  },
  {
   "cell_type": "markdown",
   "metadata": {},
   "source": [
    "For this question, we can compare the mean and median insurance charges for smokers and non-smokers."
   ]
  },
  {
   "cell_type": "code",
   "execution_count": 18,
   "metadata": {},
   "outputs": [],
   "source": [
    "smoker_charges = []\n",
    "non_smoker_charges = []\n",
    "\n",
    "# sort the charges into smoker and non-smoker lists\n",
    "for row in insurance_data:\n",
    "    if row['smoker'] == 'yes':\n",
    "        smoker_charges.append(float(row['charges']))\n",
    "    elif row['smoker'] == 'no':\n",
    "        non_smoker_charges.append(float(row['charges']))\n",
    "\n",
    "# convert lists into numpy arrays for analysis\n",
    "smoker_charges_np = np.array(smoker_charges)\n",
    "non_smoker_charges_np = np.array(non_smoker_charges)\n",
    "\n",
    "# calculate mean and median of smokers and non-smokers insurance charges\n",
    "smoker_mean = np.average(smoker_charges_np)\n",
    "non_smoker_mean = np.average(non_smoker_charges_np)\n",
    "smoker_median = np.median(smoker_charges_np)\n",
    "non_smoker_median = np.median(non_smoker_charges_np)"
   ]
  },
  {
   "cell_type": "markdown",
   "metadata": {},
   "source": [
    "Display results:"
   ]
  },
  {
   "cell_type": "code",
   "execution_count": 19,
   "metadata": {},
   "outputs": [
    {
     "name": "stdout",
     "output_type": "stream",
     "text": [
      "Average smoker insurance charges: 32050.23183153284\n",
      "Average non-smoker insurance charges: 8434.268297856204\n",
      "Median smoker insurance charges: 34456.348450000005\n",
      "Median non-smoker insurance charges: 7345.4053\n"
     ]
    }
   ],
   "source": [
    "print(\"Average smoker insurance charges: \" + str(smoker_mean))\n",
    "print(\"Average non-smoker insurance charges: \" + str(non_smoker_mean))\n",
    "print(\"Median smoker insurance charges: \" + str(smoker_median))\n",
    "print(\"Median non-smoker insurance charges: \" + str(non_smoker_median))"
   ]
  },
  {
   "cell_type": "markdown",
   "metadata": {},
   "source": [
    "Based on the results above, the average and median of insurance charges for non-smokers are lower than that of smokers. We can conclude the smokers have higher insurance charges."
   ]
  },
  {
   "cell_type": "code",
   "execution_count": null,
   "metadata": {},
   "outputs": [],
   "source": []
  }
 ],
 "metadata": {
  "kernelspec": {
   "display_name": "Python 3",
   "language": "python",
   "name": "python3"
  },
  "language_info": {
   "codemirror_mode": {
    "name": "ipython",
    "version": 3
   },
   "file_extension": ".py",
   "mimetype": "text/x-python",
   "name": "python",
   "nbconvert_exporter": "python",
   "pygments_lexer": "ipython3",
   "version": "3.8.3"
  }
 },
 "nbformat": 4,
 "nbformat_minor": 4
}
