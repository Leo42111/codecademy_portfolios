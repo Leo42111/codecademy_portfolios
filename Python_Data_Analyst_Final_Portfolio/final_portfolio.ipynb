{
 "cells": [
  {
   "cell_type": "markdown",
   "metadata": {},
   "source": [
    "### Goals <a class=\"anchor\" id=\"Goals\"></a>\n",
    "\n",
    "This notebook contains an analysis on some marketing data. The goal for this project was to do the following:\n",
    "* Get acquainted with the data\n",
    "* Clean the data so it is ready for analysis\n",
    "* Develop some questions for analysis\n",
    "* Analyze variables within the data to gain patterns and insights on these questions"
   ]
  },
  {
   "cell_type": "markdown",
   "metadata": {},
   "source": [
    "### Data <a class=\"anchor\" id=\"Data\"></a>\n",
    "\n",
    "The data for this project was downloaded from Kaggle:\n",
    "\n",
    "[https://www.kaggle.com/jackdaoud/marketing-data](https://www.kaggle.com/jackdaoud/marketing-data)\n",
    "\n",
    "Information regarding the features for the data are located in the `Column` section on the website.\n",
    "\n",
    "Some code inspiration for this analysis was sourced from [this noteboook](https://www.kaggle.com/dimitriirfan/market-eda)."
   ]
  },
  {
   "cell_type": "markdown",
   "metadata": {},
   "source": [
    "#### Loading the Data <a class=\"anchor\" id=\"section1_1\"></a>\n",
    "First, the necessary libraries are loaded into the notebook. The pandas library is used to import data from marketing_data.csv and preview the first five rows of the DataFrame."
   ]
  },
  {
   "cell_type": "code",
   "execution_count": null,
   "metadata": {},
   "outputs": [],
   "source": [
    "# sets up matplotlib with interactive features\n",
    "%matplotlib notebook\n",
    "import pandas as pd\n",
    "import seaborn as sns\n",
    "import matplotlib.pyplot as plt\n",
    "import numpy as np\n",
    "import re"
   ]
  },
  {
   "cell_type": "code",
   "execution_count": null,
   "metadata": {},
   "outputs": [],
   "source": []
  },
  {
   "cell_type": "markdown",
   "metadata": {},
   "source": [
    "#### Data Information <a class=\"anchor\" id=\"section1_2\"></a>\n",
    "\n",
    "Some immediate insights are:\n",
    "* There are 28 columns and 2240 rows.\n",
    "* The name and datatype of each column -- most values are integers in this dataset.\n",
    "* The ` income` column has missing data, values that are not integers or floats, and an extra space in the column name, so some cleaning will be necessary for this column prior to conducting EDA. \n",
    "* The column names could be renamed for more consistency.\n",
    "* Some basic summary statistics on each of the numerical variables."
   ]
  },
  {
   "cell_type": "code",
   "execution_count": null,
   "metadata": {},
   "outputs": [],
   "source": []
  },
  {
   "cell_type": "markdown",
   "metadata": {},
   "source": [
    "#### Data Cleaning <a class=\"anchor\" id=\"cleaning\"></a>\n",
    "\n",
    "As mentioned before, the `Income` column could use some cleaning. The column names overall could also be renamed for more consistency. To do this, the following is done:\n",
    "* Put all columns in [snake case format](https://www.ssc.wisc.edu/sscc/pubs/DWE/book/4-2-naming-variables.html) using regex and list comprehension\n",
    "* Change `Income` values to floats\n",
    "* Set the values as floats\n",
    "\n",
    "The `Income` distribution is then looked at using boxplots. Since there is one large outlier, it is removed from the `marketing_data`. Next, the missing values are replaced with the mean income using the `.mean()` method.\n",
    "\n",
    "`Income` is one of the main variables that will be explored in the analysis, so it is essential that it is tidy and ready for exploration"
   ]
  },
  {
   "cell_type": "code",
   "execution_count": null,
   "metadata": {},
   "outputs": [],
   "source": []
  },
  {
   "cell_type": "code",
   "execution_count": null,
   "metadata": {},
   "outputs": [],
   "source": []
  },
  {
   "cell_type": "markdown",
   "metadata": {},
   "source": [
    "### Exploratory Data Analysis <a class=\"anchor\" id=\"EDA\"></a>\n",
    "\n",
    "After some data cleaning and tidying, the DataFrame is ready for EDA. The following independent variables will be focused on in the analysis:\n",
    "* `income`\n",
    "* `education`\n",
    "* `age`\n",
    "\n",
    "The goal will be to see how these independent variables associate with the following dependent variables:\n",
    "* `mnt_wines`\n",
    "* `mnt_fruits`\n",
    "* `mnt_meat_products`\n",
    "* `mnt_fish_products`\n",
    "* `mnt_sweet_products`  \n",
    "* `mnt_gold_products`  \n",
    "* `num_deals_purchases`\n",
    "* `num_web_purchases`  \n",
    "* `num_catalog_purchases`  \n",
    "* `num_store_purchases`\n",
    "\n",
    "The hope is that through summary statistics and visualizations the following question can be answered:\n",
    "* Does a shopper's income, education level, and/or age relate to their purchasing behavior? \n",
    "\n",
    "Along the way, this question may be refined and more questions may pop up."
   ]
  },
  {
   "cell_type": "markdown",
   "metadata": {},
   "source": [
    "#### Big Picture <a class=\"anchor\" id=\"section3_1\">\n",
    "\n",
    "In order to observe the dataset as a whole, `DataFrame.hist()` is used.. It gives a full view of all numerical variables in the distribution. Most of the amount bought and number purchased variables are skewed right and have similar distributions.\n",
    "\n",
    "Next, correlations between all numerical variables are viewed using a heat matrix. The heat matrix shows that `income` has the strongest association with numerous variables. Interestingly, it showed that `age` may not be a huge factor overall. This is something to look into it a bit more in the analysis."
   ]
  },
  {
   "cell_type": "code",
   "execution_count": null,
   "metadata": {},
   "outputs": [],
   "source": []
  },
  {
   "cell_type": "code",
   "execution_count": null,
   "metadata": {},
   "outputs": [],
   "source": []
  },
  {
   "cell_type": "markdown",
   "metadata": {},
   "source": [
    "#### Purchasing Behavior by Income <a class=\"anchor\" id=\"section3_2\"></a>\n",
    "\n",
    "Now it's time to start looking into the big question. A `for` loop is used to see the relationship bewteen `income` and each `num_{type}_purchases` variable. The `hue` parameter with the `education` variable is used to see if there are any patterns that can be deciphered between `education` and `num_{type}_purchases`. \n",
    "\n",
    "First scatterplots are used and then regression plots are used for this analysis."
   ]
  },
  {
   "cell_type": "code",
   "execution_count": null,
   "metadata": {},
   "outputs": [],
   "source": []
  },
  {
   "cell_type": "code",
   "execution_count": null,
   "metadata": {},
   "outputs": [],
   "source": []
  },
  {
   "cell_type": "markdown",
   "metadata": {},
   "source": [
    "### Conclusion <a class=\"anchor\" id=\"conclusion\"></a>\n",
    "\n",
    "#### Findings Overview\n",
    "\n",
    "It has been shown `income` has the strongest relationship with purchase behavior of customers. However, interesting insights about `education` and `age` along with `age_group` have still been noted. These insights would be very helpful to how this store markets deals to their customers and prices items, such as wine since higher income groups tend to dominate alcohol sales. There is also opportunity to increase market to the `18 to 35` and `71 and Older` age groups to drive products sales. \n",
    "\n",
    "#### Next Steps\n",
    "\n",
    "This dataset also has plenty of information has still not been touched upon yet. Some things to consider in a future analysis are:\n",
    "* Results from existing marketing campaings\n",
    "* Geographical data\n",
    "* Customer marital status\n",
    "* Customer complaints\n",
    "\n",
    "Happy Coding!"
   ]
  }
 ],
 "metadata": {
  "kernelspec": {
   "display_name": "Python 3",
   "language": "python",
   "name": "python3"
  },
  "language_info": {
   "codemirror_mode": {
    "name": "ipython",
    "version": 3
   },
   "file_extension": ".py",
   "mimetype": "text/x-python",
   "name": "python",
   "nbconvert_exporter": "python",
   "pygments_lexer": "ipython3",
   "version": "3.8.3"
  }
 },
 "nbformat": 4,
 "nbformat_minor": 4
}
