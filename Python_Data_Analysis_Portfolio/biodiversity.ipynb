{
 "cells": [
  {
   "cell_type": "markdown",
   "metadata": {},
   "source": [
    "# Data Analysis Portfolio - Biodiversity"
   ]
  },
  {
   "cell_type": "markdown",
   "metadata": {},
   "source": [
    "## Introduction"
   ]
  },
  {
   "cell_type": "markdown",
   "metadata": {},
   "source": [
    "This project is to interpret data from the National Park Service about endangered species in different parks. This project will investigate if there any patterns or themes to the types of species that become endangered, and also analyze the distribution of species in national parks."
   ]
  },
  {
   "cell_type": "markdown",
   "metadata": {},
   "source": [
    "The following points will be investigated:\n",
    "1. The overall conservation status on each category\n",
    "2. Is a particular category more likely to be endangered?\n",
    "3. The distribution of species in different parks"
   ]
  },
  {
   "cell_type": "markdown",
   "metadata": {},
   "source": [
    "## Load and Inspect Data"
   ]
  },
  {
   "cell_type": "markdown",
   "metadata": {},
   "source": [
    "Import libraries:"
   ]
  },
  {
   "cell_type": "code",
   "execution_count": 1,
   "metadata": {},
   "outputs": [],
   "source": [
    "import pandas as pd\n",
    "import numpy as np\n",
    "import seaborn as sns\n",
    "from matplotlib import pyplot as plt"
   ]
  },
  {
   "cell_type": "markdown",
   "metadata": {},
   "source": [
    "Read csv files and view first few rows of each dataset:"
   ]
  },
  {
   "cell_type": "code",
   "execution_count": 2,
   "metadata": {},
   "outputs": [],
   "source": [
    "species_info = pd.read_csv(\"species_info.csv\")\n",
    "observations = pd.read_csv(\"observations.csv\")"
   ]
  },
  {
   "cell_type": "code",
   "execution_count": 3,
   "metadata": {},
   "outputs": [
    {
     "data": {
      "text/html": [
       "<div>\n",
       "<style scoped>\n",
       "    .dataframe tbody tr th:only-of-type {\n",
       "        vertical-align: middle;\n",
       "    }\n",
       "\n",
       "    .dataframe tbody tr th {\n",
       "        vertical-align: top;\n",
       "    }\n",
       "\n",
       "    .dataframe thead th {\n",
       "        text-align: right;\n",
       "    }\n",
       "</style>\n",
       "<table border=\"1\" class=\"dataframe\">\n",
       "  <thead>\n",
       "    <tr style=\"text-align: right;\">\n",
       "      <th></th>\n",
       "      <th>category</th>\n",
       "      <th>scientific_name</th>\n",
       "      <th>common_names</th>\n",
       "      <th>conservation_status</th>\n",
       "    </tr>\n",
       "  </thead>\n",
       "  <tbody>\n",
       "    <tr>\n",
       "      <th>0</th>\n",
       "      <td>Mammal</td>\n",
       "      <td>Clethrionomys gapperi gapperi</td>\n",
       "      <td>Gapper's Red-Backed Vole</td>\n",
       "      <td>NaN</td>\n",
       "    </tr>\n",
       "    <tr>\n",
       "      <th>1</th>\n",
       "      <td>Mammal</td>\n",
       "      <td>Bos bison</td>\n",
       "      <td>American Bison, Bison</td>\n",
       "      <td>NaN</td>\n",
       "    </tr>\n",
       "    <tr>\n",
       "      <th>2</th>\n",
       "      <td>Mammal</td>\n",
       "      <td>Bos taurus</td>\n",
       "      <td>Aurochs, Aurochs, Domestic Cattle (Feral), Dom...</td>\n",
       "      <td>NaN</td>\n",
       "    </tr>\n",
       "    <tr>\n",
       "      <th>3</th>\n",
       "      <td>Mammal</td>\n",
       "      <td>Ovis aries</td>\n",
       "      <td>Domestic Sheep, Mouflon, Red Sheep, Sheep (Feral)</td>\n",
       "      <td>NaN</td>\n",
       "    </tr>\n",
       "    <tr>\n",
       "      <th>4</th>\n",
       "      <td>Mammal</td>\n",
       "      <td>Cervus elaphus</td>\n",
       "      <td>Wapiti Or Elk</td>\n",
       "      <td>NaN</td>\n",
       "    </tr>\n",
       "  </tbody>\n",
       "</table>\n",
       "</div>"
      ],
      "text/plain": [
       "  category                scientific_name  \\\n",
       "0   Mammal  Clethrionomys gapperi gapperi   \n",
       "1   Mammal                      Bos bison   \n",
       "2   Mammal                     Bos taurus   \n",
       "3   Mammal                     Ovis aries   \n",
       "4   Mammal                 Cervus elaphus   \n",
       "\n",
       "                                        common_names conservation_status  \n",
       "0                           Gapper's Red-Backed Vole                 NaN  \n",
       "1                              American Bison, Bison                 NaN  \n",
       "2  Aurochs, Aurochs, Domestic Cattle (Feral), Dom...                 NaN  \n",
       "3  Domestic Sheep, Mouflon, Red Sheep, Sheep (Feral)                 NaN  \n",
       "4                                      Wapiti Or Elk                 NaN  "
      ]
     },
     "execution_count": 3,
     "metadata": {},
     "output_type": "execute_result"
    }
   ],
   "source": [
    "species_info.head()"
   ]
  },
  {
   "cell_type": "code",
   "execution_count": 4,
   "metadata": {},
   "outputs": [
    {
     "data": {
      "text/html": [
       "<div>\n",
       "<style scoped>\n",
       "    .dataframe tbody tr th:only-of-type {\n",
       "        vertical-align: middle;\n",
       "    }\n",
       "\n",
       "    .dataframe tbody tr th {\n",
       "        vertical-align: top;\n",
       "    }\n",
       "\n",
       "    .dataframe thead th {\n",
       "        text-align: right;\n",
       "    }\n",
       "</style>\n",
       "<table border=\"1\" class=\"dataframe\">\n",
       "  <thead>\n",
       "    <tr style=\"text-align: right;\">\n",
       "      <th></th>\n",
       "      <th>scientific_name</th>\n",
       "      <th>park_name</th>\n",
       "      <th>observations</th>\n",
       "    </tr>\n",
       "  </thead>\n",
       "  <tbody>\n",
       "    <tr>\n",
       "      <th>0</th>\n",
       "      <td>Vicia benghalensis</td>\n",
       "      <td>Great Smoky Mountains National Park</td>\n",
       "      <td>68</td>\n",
       "    </tr>\n",
       "    <tr>\n",
       "      <th>1</th>\n",
       "      <td>Neovison vison</td>\n",
       "      <td>Great Smoky Mountains National Park</td>\n",
       "      <td>77</td>\n",
       "    </tr>\n",
       "    <tr>\n",
       "      <th>2</th>\n",
       "      <td>Prunus subcordata</td>\n",
       "      <td>Yosemite National Park</td>\n",
       "      <td>138</td>\n",
       "    </tr>\n",
       "    <tr>\n",
       "      <th>3</th>\n",
       "      <td>Abutilon theophrasti</td>\n",
       "      <td>Bryce National Park</td>\n",
       "      <td>84</td>\n",
       "    </tr>\n",
       "    <tr>\n",
       "      <th>4</th>\n",
       "      <td>Githopsis specularioides</td>\n",
       "      <td>Great Smoky Mountains National Park</td>\n",
       "      <td>85</td>\n",
       "    </tr>\n",
       "  </tbody>\n",
       "</table>\n",
       "</div>"
      ],
      "text/plain": [
       "            scientific_name                            park_name  observations\n",
       "0        Vicia benghalensis  Great Smoky Mountains National Park            68\n",
       "1            Neovison vison  Great Smoky Mountains National Park            77\n",
       "2         Prunus subcordata               Yosemite National Park           138\n",
       "3      Abutilon theophrasti                  Bryce National Park            84\n",
       "4  Githopsis specularioides  Great Smoky Mountains National Park            85"
      ]
     },
     "execution_count": 4,
     "metadata": {},
     "output_type": "execute_result"
    }
   ],
   "source": [
    "observations.head()"
   ]
  },
  {
   "cell_type": "markdown",
   "metadata": {},
   "source": [
    "All the possible categories(animal class):"
   ]
  },
  {
   "cell_type": "code",
   "execution_count": 5,
   "metadata": {},
   "outputs": [
    {
     "data": {
      "text/plain": [
       "['Mammal',\n",
       " 'Bird',\n",
       " 'Reptile',\n",
       " 'Amphibian',\n",
       " 'Fish',\n",
       " 'Vascular Plant',\n",
       " 'Nonvascular Plant']"
      ]
     },
     "execution_count": 5,
     "metadata": {},
     "output_type": "execute_result"
    }
   ],
   "source": [
    "list(species_info[\"category\"].unique())"
   ]
  },
  {
   "cell_type": "markdown",
   "metadata": {},
   "source": [
    "All the possible conservation status:"
   ]
  },
  {
   "cell_type": "code",
   "execution_count": 6,
   "metadata": {},
   "outputs": [
    {
     "data": {
      "text/plain": [
       "[nan, 'Species of Concern', 'Endangered', 'Threatened', 'In Recovery']"
      ]
     },
     "execution_count": 6,
     "metadata": {},
     "output_type": "execute_result"
    }
   ],
   "source": [
    "list(species_info[\"conservation_status\"].unique())"
   ]
  },
  {
   "cell_type": "markdown",
   "metadata": {},
   "source": [
    "All the possible parks:"
   ]
  },
  {
   "cell_type": "code",
   "execution_count": 7,
   "metadata": {},
   "outputs": [
    {
     "data": {
      "text/plain": [
       "['Great Smoky Mountains National Park',\n",
       " 'Yosemite National Park',\n",
       " 'Bryce National Park',\n",
       " 'Yellowstone National Park']"
      ]
     },
     "execution_count": 7,
     "metadata": {},
     "output_type": "execute_result"
    }
   ],
   "source": [
    "list(observations[\"park_name\"].unique())"
   ]
  },
  {
   "cell_type": "markdown",
   "metadata": {},
   "source": [
    "## Analysis"
   ]
  },
  {
   "cell_type": "markdown",
   "metadata": {},
   "source": [
    "### 1. Conservation Status on Each Category"
   ]
  },
  {
   "cell_type": "markdown",
   "metadata": {},
   "source": [
    "We use a table to show the conservation status on each category, analyzing the distribution."
   ]
  },
  {
   "cell_type": "markdown",
   "metadata": {},
   "source": [
    "First, we clean and prepare the data first."
   ]
  },
  {
   "cell_type": "code",
   "execution_count": 8,
   "metadata": {},
   "outputs": [],
   "source": [
    "# Filling all nan values in conservation_status into \"Normal\"\n",
    "species_info[\"conservation_status\"] = species_info[\"conservation_status\"].fillna(\"Normal\")\n",
    "\n",
    "# Split species_info by categories\n",
    "category_status = species_info.groupby([\"category\", \"conservation_status\"]).scientific_name.count().reset_index()\n",
    "category_status = category_status.pivot(columns=\"conservation_status\", index=\"category\", values=\"scientific_name\")"
   ]
  },
  {
   "cell_type": "code",
   "execution_count": 9,
   "metadata": {},
   "outputs": [
    {
     "data": {
      "text/html": [
       "<div>\n",
       "<style scoped>\n",
       "    .dataframe tbody tr th:only-of-type {\n",
       "        vertical-align: middle;\n",
       "    }\n",
       "\n",
       "    .dataframe tbody tr th {\n",
       "        vertical-align: top;\n",
       "    }\n",
       "\n",
       "    .dataframe thead th {\n",
       "        text-align: right;\n",
       "    }\n",
       "</style>\n",
       "<table border=\"1\" class=\"dataframe\">\n",
       "  <thead>\n",
       "    <tr style=\"text-align: right;\">\n",
       "      <th>conservation_status</th>\n",
       "      <th>Endangered</th>\n",
       "      <th>In Recovery</th>\n",
       "      <th>Normal</th>\n",
       "      <th>Species of Concern</th>\n",
       "      <th>Threatened</th>\n",
       "    </tr>\n",
       "    <tr>\n",
       "      <th>category</th>\n",
       "      <th></th>\n",
       "      <th></th>\n",
       "      <th></th>\n",
       "      <th></th>\n",
       "      <th></th>\n",
       "    </tr>\n",
       "  </thead>\n",
       "  <tbody>\n",
       "    <tr>\n",
       "      <th>Amphibian</th>\n",
       "      <td>1.0</td>\n",
       "      <td>NaN</td>\n",
       "      <td>73.0</td>\n",
       "      <td>4.0</td>\n",
       "      <td>2.0</td>\n",
       "    </tr>\n",
       "    <tr>\n",
       "      <th>Bird</th>\n",
       "      <td>4.0</td>\n",
       "      <td>3.0</td>\n",
       "      <td>442.0</td>\n",
       "      <td>72.0</td>\n",
       "      <td>NaN</td>\n",
       "    </tr>\n",
       "    <tr>\n",
       "      <th>Fish</th>\n",
       "      <td>3.0</td>\n",
       "      <td>NaN</td>\n",
       "      <td>116.0</td>\n",
       "      <td>4.0</td>\n",
       "      <td>4.0</td>\n",
       "    </tr>\n",
       "    <tr>\n",
       "      <th>Mammal</th>\n",
       "      <td>7.0</td>\n",
       "      <td>1.0</td>\n",
       "      <td>176.0</td>\n",
       "      <td>28.0</td>\n",
       "      <td>2.0</td>\n",
       "    </tr>\n",
       "    <tr>\n",
       "      <th>Nonvascular Plant</th>\n",
       "      <td>NaN</td>\n",
       "      <td>NaN</td>\n",
       "      <td>328.0</td>\n",
       "      <td>5.0</td>\n",
       "      <td>NaN</td>\n",
       "    </tr>\n",
       "    <tr>\n",
       "      <th>Reptile</th>\n",
       "      <td>NaN</td>\n",
       "      <td>NaN</td>\n",
       "      <td>74.0</td>\n",
       "      <td>5.0</td>\n",
       "      <td>NaN</td>\n",
       "    </tr>\n",
       "    <tr>\n",
       "      <th>Vascular Plant</th>\n",
       "      <td>1.0</td>\n",
       "      <td>NaN</td>\n",
       "      <td>4424.0</td>\n",
       "      <td>43.0</td>\n",
       "      <td>2.0</td>\n",
       "    </tr>\n",
       "  </tbody>\n",
       "</table>\n",
       "</div>"
      ],
      "text/plain": [
       "conservation_status  Endangered  In Recovery  Normal  Species of Concern  \\\n",
       "category                                                                   \n",
       "Amphibian                   1.0          NaN    73.0                 4.0   \n",
       "Bird                        4.0          3.0   442.0                72.0   \n",
       "Fish                        3.0          NaN   116.0                 4.0   \n",
       "Mammal                      7.0          1.0   176.0                28.0   \n",
       "Nonvascular Plant           NaN          NaN   328.0                 5.0   \n",
       "Reptile                     NaN          NaN    74.0                 5.0   \n",
       "Vascular Plant              1.0          NaN  4424.0                43.0   \n",
       "\n",
       "conservation_status  Threatened  \n",
       "category                         \n",
       "Amphibian                   2.0  \n",
       "Bird                        NaN  \n",
       "Fish                        4.0  \n",
       "Mammal                      2.0  \n",
       "Nonvascular Plant           NaN  \n",
       "Reptile                     NaN  \n",
       "Vascular Plant              2.0  "
      ]
     },
     "execution_count": 9,
     "metadata": {},
     "output_type": "execute_result"
    }
   ],
   "source": [
    "category_status"
   ]
  },
  {
   "cell_type": "markdown",
   "metadata": {},
   "source": [
    "According to the above table, we can conclude the following:\n",
    "1. There are no species in reptile and nonvascular plant which is endangered or threatened.\n",
    "2. Mammals have 7 endangered species, which is the highest among all species. It is followed by birds, which have 3 endangered species.\n",
    "3. Birds have the highest amount of species which is of concern, with a count of 72 species. It is followed by vascular plants, with a count of 43 species."
   ]
  },
  {
   "cell_type": "markdown",
   "metadata": {},
   "source": [
    "### 2. Is a particular category more likely to be endangered?"
   ]
  },
  {
   "cell_type": "markdown",
   "metadata": {},
   "source": [
    "First, we divide the conservation status in the dataframe into two groups - normal and protected. Every species that does not have the status \"Normal\" will fall into the protected group.\n",
    "Then, we count the number of normal and protected species for each category and display the distribution using a table."
   ]
  },
  {
   "cell_type": "code",
   "execution_count": 10,
   "metadata": {},
   "outputs": [],
   "source": [
    "#create new column to split into normal or protected group\n",
    "species_info[\"is_normal\"] = species_info.conservation_status.apply(lambda x: \"Normal\" if x == \"Normal\" else \"Protected\")\n",
    "\n",
    "#count the number of species that falls into each group\n",
    "is_normal_table = species_info.groupby([\"category\", \"is_normal\"]).scientific_name.count().reset_index()\n",
    "is_normal_table = is_normal_table.pivot(columns=\"is_normal\", index=\"category\", values=\"scientific_name\")\n",
    "\n",
    "#calculate percentage of species that falls into protected group\n",
    "is_normal_table[\"Protected_percentage\"] = 100.0 * is_normal_table[\"Protected\"] / is_normal_table[\"Normal\"]"
   ]
  },
  {
   "cell_type": "code",
   "execution_count": 11,
   "metadata": {},
   "outputs": [
    {
     "data": {
      "text/html": [
       "<div>\n",
       "<style scoped>\n",
       "    .dataframe tbody tr th:only-of-type {\n",
       "        vertical-align: middle;\n",
       "    }\n",
       "\n",
       "    .dataframe tbody tr th {\n",
       "        vertical-align: top;\n",
       "    }\n",
       "\n",
       "    .dataframe thead th {\n",
       "        text-align: right;\n",
       "    }\n",
       "</style>\n",
       "<table border=\"1\" class=\"dataframe\">\n",
       "  <thead>\n",
       "    <tr style=\"text-align: right;\">\n",
       "      <th>is_normal</th>\n",
       "      <th>Normal</th>\n",
       "      <th>Protected</th>\n",
       "      <th>Protected_percentage</th>\n",
       "    </tr>\n",
       "    <tr>\n",
       "      <th>category</th>\n",
       "      <th></th>\n",
       "      <th></th>\n",
       "      <th></th>\n",
       "    </tr>\n",
       "  </thead>\n",
       "  <tbody>\n",
       "    <tr>\n",
       "      <th>Amphibian</th>\n",
       "      <td>73</td>\n",
       "      <td>7</td>\n",
       "      <td>9.589041</td>\n",
       "    </tr>\n",
       "    <tr>\n",
       "      <th>Bird</th>\n",
       "      <td>442</td>\n",
       "      <td>79</td>\n",
       "      <td>17.873303</td>\n",
       "    </tr>\n",
       "    <tr>\n",
       "      <th>Fish</th>\n",
       "      <td>116</td>\n",
       "      <td>11</td>\n",
       "      <td>9.482759</td>\n",
       "    </tr>\n",
       "    <tr>\n",
       "      <th>Mammal</th>\n",
       "      <td>176</td>\n",
       "      <td>38</td>\n",
       "      <td>21.590909</td>\n",
       "    </tr>\n",
       "    <tr>\n",
       "      <th>Nonvascular Plant</th>\n",
       "      <td>328</td>\n",
       "      <td>5</td>\n",
       "      <td>1.524390</td>\n",
       "    </tr>\n",
       "    <tr>\n",
       "      <th>Reptile</th>\n",
       "      <td>74</td>\n",
       "      <td>5</td>\n",
       "      <td>6.756757</td>\n",
       "    </tr>\n",
       "    <tr>\n",
       "      <th>Vascular Plant</th>\n",
       "      <td>4424</td>\n",
       "      <td>46</td>\n",
       "      <td>1.039783</td>\n",
       "    </tr>\n",
       "  </tbody>\n",
       "</table>\n",
       "</div>"
      ],
      "text/plain": [
       "is_normal          Normal  Protected  Protected_percentage\n",
       "category                                                  \n",
       "Amphibian              73          7              9.589041\n",
       "Bird                  442         79             17.873303\n",
       "Fish                  116         11              9.482759\n",
       "Mammal                176         38             21.590909\n",
       "Nonvascular Plant     328          5              1.524390\n",
       "Reptile                74          5              6.756757\n",
       "Vascular Plant       4424         46              1.039783"
      ]
     },
     "execution_count": 11,
     "metadata": {},
     "output_type": "execute_result"
    }
   ],
   "source": [
    "is_normal_table"
   ]
  },
  {
   "cell_type": "markdown",
   "metadata": {},
   "source": [
    "According to the table above, mammals are more likely to be endangered, as around 21.5% of the total mammal species are either in concern, threatened, endangered, or in recovery. Vascular plants are least likely to be endangered, as around 1% of the total species are not in normal status."
   ]
  },
  {
   "cell_type": "markdown",
   "metadata": {},
   "source": [
    "### 3. Distribution of species in parks"
   ]
  },
  {
   "cell_type": "markdown",
   "metadata": {},
   "source": [
    "We would like to check the distribution of species in national parks, to see if a particular category is more abundant in a certain park.\n",
    "As there are a total of 4 national parks in the observation dataframe, we will first merge the two dataframes together, and count the number of observations of species in parks. We will use a bar plot to visualize the data."
   ]
  },
  {
   "cell_type": "code",
   "execution_count": 12,
   "metadata": {},
   "outputs": [],
   "source": [
    "#merge 2 dataframes with common column scientific_name\n",
    "merged_df = species_info.merge(observations)\n",
    "\n",
    "#sum up all observations of each category, grouped by each park\n",
    "park_observations = merged_df.groupby([\"category\", \"park_name\"]).observations.sum().reset_index()\n",
    "park_observations_pivot = park_observations.pivot(columns=\"category\", index=\"park_name\", values=\"observations\")"
   ]
  },
  {
   "cell_type": "code",
   "execution_count": 13,
   "metadata": {},
   "outputs": [
    {
     "data": {
      "text/html": [
       "<div>\n",
       "<style scoped>\n",
       "    .dataframe tbody tr th:only-of-type {\n",
       "        vertical-align: middle;\n",
       "    }\n",
       "\n",
       "    .dataframe tbody tr th {\n",
       "        vertical-align: top;\n",
       "    }\n",
       "\n",
       "    .dataframe thead th {\n",
       "        text-align: right;\n",
       "    }\n",
       "</style>\n",
       "<table border=\"1\" class=\"dataframe\">\n",
       "  <thead>\n",
       "    <tr style=\"text-align: right;\">\n",
       "      <th>category</th>\n",
       "      <th>Amphibian</th>\n",
       "      <th>Bird</th>\n",
       "      <th>Fish</th>\n",
       "      <th>Mammal</th>\n",
       "      <th>Nonvascular Plant</th>\n",
       "      <th>Reptile</th>\n",
       "      <th>Vascular Plant</th>\n",
       "    </tr>\n",
       "    <tr>\n",
       "      <th>park_name</th>\n",
       "      <th></th>\n",
       "      <th></th>\n",
       "      <th></th>\n",
       "      <th></th>\n",
       "      <th></th>\n",
       "      <th></th>\n",
       "      <th></th>\n",
       "    </tr>\n",
       "  </thead>\n",
       "  <tbody>\n",
       "    <tr>\n",
       "      <th>Bryce National Park</th>\n",
       "      <td>7542</td>\n",
       "      <td>58590</td>\n",
       "      <td>12823</td>\n",
       "      <td>28830</td>\n",
       "      <td>32992</td>\n",
       "      <td>8141</td>\n",
       "      <td>484373</td>\n",
       "    </tr>\n",
       "    <tr>\n",
       "      <th>Great Smoky Mountains National Park</th>\n",
       "      <td>5876</td>\n",
       "      <td>42869</td>\n",
       "      <td>9482</td>\n",
       "      <td>21056</td>\n",
       "      <td>24857</td>\n",
       "      <td>5841</td>\n",
       "      <td>364882</td>\n",
       "    </tr>\n",
       "    <tr>\n",
       "      <th>Yellowstone National Park</th>\n",
       "      <td>19937</td>\n",
       "      <td>144300</td>\n",
       "      <td>31459</td>\n",
       "      <td>70701</td>\n",
       "      <td>83021</td>\n",
       "      <td>20061</td>\n",
       "      <td>1218162</td>\n",
       "    </tr>\n",
       "    <tr>\n",
       "      <th>Yosemite National Park</th>\n",
       "      <td>11713</td>\n",
       "      <td>86612</td>\n",
       "      <td>19137</td>\n",
       "      <td>42533</td>\n",
       "      <td>49783</td>\n",
       "      <td>11779</td>\n",
       "      <td>727895</td>\n",
       "    </tr>\n",
       "  </tbody>\n",
       "</table>\n",
       "</div>"
      ],
      "text/plain": [
       "category                             Amphibian    Bird   Fish  Mammal  \\\n",
       "park_name                                                               \n",
       "Bryce National Park                       7542   58590  12823   28830   \n",
       "Great Smoky Mountains National Park       5876   42869   9482   21056   \n",
       "Yellowstone National Park                19937  144300  31459   70701   \n",
       "Yosemite National Park                   11713   86612  19137   42533   \n",
       "\n",
       "category                             Nonvascular Plant  Reptile  \\\n",
       "park_name                                                         \n",
       "Bryce National Park                              32992     8141   \n",
       "Great Smoky Mountains National Park              24857     5841   \n",
       "Yellowstone National Park                        83021    20061   \n",
       "Yosemite National Park                           49783    11779   \n",
       "\n",
       "category                             Vascular Plant  \n",
       "park_name                                            \n",
       "Bryce National Park                          484373  \n",
       "Great Smoky Mountains National Park          364882  \n",
       "Yellowstone National Park                   1218162  \n",
       "Yosemite National Park                       727895  "
      ]
     },
     "execution_count": 13,
     "metadata": {},
     "output_type": "execute_result"
    }
   ],
   "source": [
    "park_observations_pivot"
   ]
  },
  {
   "cell_type": "markdown",
   "metadata": {},
   "source": [
    "With this information, we plot a bar graph of species vs observations for each national park."
   ]
  },
  {
   "cell_type": "code",
   "execution_count": 14,
   "metadata": {},
   "outputs": [
    {
     "data": {
      "text/plain": [
       "Text(0.5, 1.0, 'Number of Observations for Different Species in 4 national parks in U.S.')"
      ]
     },
     "execution_count": 14,
     "metadata": {},
     "output_type": "execute_result"
    },
    {
     "data": {
      "image/png": "[encoded data removed]",
      "text/plain": [
       "<Figure size 1440x1080 with 1 Axes>"
      ]
     },
     "metadata": {
      "needs_background": "light"
     },
     "output_type": "display_data"
    }
   ],
   "source": [
    "plt.figure(figsize=(20, 15))\n",
    "sns.set_style(\"whitegrid\")\n",
    "fig = sns.barplot(data=park_observations, x=\"category\", y=\"observations\", hue=\"park_name\")\n",
    "plt.yticks(fig.get_yticks(), fig.get_yticks())\n",
    "plt.xlabel(\"Category\")\n",
    "plt.ylabel(\"Number of Observations\")\n",
    "plt.legend(title=\"Park Name\")\n",
    "plt.title(\"Number of Observations for Different Species in 4 national parks in U.S.\")"
   ]
  },
  {
   "cell_type": "markdown",
   "metadata": {},
   "source": [
    "From the above plot:\n",
    "1. For each category, Yellowstone National Park has the highest observation count among all, followed by Yosemite National Park and Bryce National Park. Great Smoky Mountains National Park has the lowest observation count.\n",
    "2. Vascular Plant is the category with the highest observation count for all national parks, while amphibian and reptile are the categories with the lowest observation count."
   ]
  },
  {
   "cell_type": "markdown",
   "metadata": {},
   "source": [
    "We also plot a stacked bar plot to show the total number of observations in the 4 national parks:"
   ]
  },
  {
   "cell_type": "code",
   "execution_count": 15,
   "metadata": {},
   "outputs": [
    {
     "data": {
      "text/plain": [
       "Text(0.5, 1.0, 'Number of Observations in 4 national parks in U.S.')"
      ]
     },
     "execution_count": 15,
     "metadata": {},
     "output_type": "execute_result"
    },
    {
     "data": {
      "text/plain": [
       "<Figure size 1440x1080 with 0 Axes>"
      ]
     },
     "metadata": {},
     "output_type": "display_data"
    },
    {
     "data": {
      "image/png": "[encoded data removed]",
      "text/plain": [
       "<Figure size 432x288 with 1 Axes>"
      ]
     },
     "metadata": {},
     "output_type": "display_data"
    }
   ],
   "source": [
    "plt.figure(figsize=(20, 15))\n",
    "park_observations_pivot.plot(kind=\"bar\", stacked=True)\n",
    "plt.yticks(fig.get_yticks(), fig.get_yticks())\n",
    "plt.xlabel(\"Parks\")\n",
    "plt.ylabel(\"Number of Observations\")\n",
    "plt.legend(title=\"Category\")\n",
    "plt.title(\"Number of Observations in 4 national parks in U.S.\")"
   ]
  },
  {
   "cell_type": "markdown",
   "metadata": {},
   "source": [
    "From the above graph:\n",
    "1. Most of the observation counts are contributed by Vascular Plants, which is at least one-third of the total observations for all national parks.\n",
    "2. Yellowstone National Park has significantly higher observation counts than other parks, which is almost 2 times more than that of Yosemite National Park, 2.5 times more than Bryce, and more than 3 times that of Great Smoky Mountains."
   ]
  }
 ],
 "metadata": {
  "kernelspec": {
   "display_name": "Python 3",
   "language": "python",
   "name": "python3"
  },
  "language_info": {
   "codemirror_mode": {
    "name": "ipython",
    "version": 3
   },
   "file_extension": ".py",
   "mimetype": "text/x-python",
   "name": "python",
   "nbconvert_exporter": "python",
   "pygments_lexer": "ipython3",
   "version": "3.8.3"
  }
 },
 "nbformat": 4,
 "nbformat_minor": 4
}
