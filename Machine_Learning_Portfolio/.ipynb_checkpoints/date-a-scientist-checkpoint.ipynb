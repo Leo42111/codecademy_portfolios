{
 "cells": [
  {
   "cell_type": "markdown",
   "metadata": {},
   "source": [
    "# Machine Learning Portfolio - OkCupid Date-A-Scientist"
   ]
  },
  {
   "cell_type": "markdown",
   "metadata": {},
   "source": [
    "## Introduction"
   ]
  },
  {
   "cell_type": "markdown",
   "metadata": {},
   "source": [
    "For this project, we are analyzing data on OKCupid, an app that focuses on using multiple choice and short answers to match users.\n",
    "\n",
    "We will investigate the data and make predictions on ______ using Scikit-learn."
   ]
  },
  {
   "cell_type": "markdown",
   "metadata": {},
   "source": [
    "## Preparations"
   ]
  },
  {
   "cell_type": "markdown",
   "metadata": {},
   "source": [
    "First, we import libraries for loading and visualizing data."
   ]
  },
  {
   "cell_type": "code",
   "execution_count": 1,
   "metadata": {},
   "outputs": [],
   "source": [
    "import pandas as pd\n",
    "import numpy as np\n",
    "import matplotlib.pyplot as plt\n",
    "import seaborn as sns"
   ]
  },
  {
   "cell_type": "markdown",
   "metadata": {},
   "source": [
    "Then, we load the csv data into DataFrame object."
   ]
  },
  {
   "cell_type": "code",
   "execution_count": 39,
   "metadata": {},
   "outputs": [],
   "source": [
    "profiles = pd.read_csv(\"profiles.csv\", encoding='utf-8')"
   ]
  },
  {
   "cell_type": "markdown",
   "metadata": {},
   "source": [
    "## Analysing Data"
   ]
  },
  {
   "cell_type": "markdown",
   "metadata": {},
   "source": [
    "After loading the data, the columns and their unique values are investigated to check if there are any specific features we can try to predict using machine learning."
   ]
  },
  {
   "cell_type": "markdown",
   "metadata": {},
   "source": [
    "First, the number of entries in the database is checked."
   ]
  },
  {
   "cell_type": "code",
   "execution_count": 3,
   "metadata": {},
   "outputs": [
    {
     "data": {
      "text/plain": [
       "59946"
      ]
     },
     "execution_count": 3,
     "metadata": {},
     "output_type": "execute_result"
    }
   ],
   "source": [
    "len(profiles)"
   ]
  },
  {
   "cell_type": "markdown",
   "metadata": {},
   "source": [
    "There are 59946 rows of data in the dataframe, representing the profiles of the 59946 person who uses the app."
   ]
  },
  {
   "cell_type": "markdown",
   "metadata": {},
   "source": [
    "Then, the first 5 rows of the dataframe is printed to give an overview."
   ]
  },
  {
   "cell_type": "code",
   "execution_count": 4,
   "metadata": {},
   "outputs": [
    {
     "name": "stdout",
     "output_type": "stream",
     "text": [
      "   age       body_type               diet    drinks      drugs  \\\n",
      "0   22  a little extra  strictly anything  socially      never   \n",
      "1   35         average       mostly other     often  sometimes   \n",
      "2   38            thin           anything  socially        NaN   \n",
      "3   23            thin         vegetarian  socially        NaN   \n",
      "4   29        athletic                NaN  socially      never   \n",
      "\n",
      "                           education  \\\n",
      "0      working on college/university   \n",
      "1              working on space camp   \n",
      "2     graduated from masters program   \n",
      "3      working on college/university   \n",
      "4  graduated from college/university   \n",
      "\n",
      "                                              essay0  \\\n",
      "0  about me:<br />\\n<br />\\ni would love to think...   \n",
      "1  i am a chef: this is what that means.<br />\\n1...   \n",
      "2  i'm not ashamed of much, but writing public te...   \n",
      "3          i work in a library and go to school. . .   \n",
      "4  hey how's it going? currently vague on the pro...   \n",
      "\n",
      "                                              essay1  \\\n",
      "0  currently working as an international agent fo...   \n",
      "1  dedicating everyday to being an unbelievable b...   \n",
      "2  i make nerdy software for musicians, artists, ...   \n",
      "3          reading things written by old dead people   \n",
      "4                         work work work work + play   \n",
      "\n",
      "                                              essay2  \\\n",
      "0  making people laugh.<br />\\nranting about a go...   \n",
      "1  being silly. having ridiculous amonts of fun w...   \n",
      "2  improvising in different contexts. alternating...   \n",
      "3  playing synthesizers and organizing books acco...   \n",
      "4  creating imagery to look at:<br />\\nhttp://bag...   \n",
      "\n",
      "                                              essay3  ...  \\\n",
      "0  the way i look. i am a six foot half asian, ha...  ...   \n",
      "1                                                NaN  ...   \n",
      "2  my large jaw and large glasses are the physica...  ...   \n",
      "3                  socially awkward but i do my best  ...   \n",
      "4            i smile a lot and my inquisitive nature  ...   \n",
      "\n",
      "                          location  \\\n",
      "0  south san francisco, california   \n",
      "1              oakland, california   \n",
      "2        san francisco, california   \n",
      "3             berkeley, california   \n",
      "4        san francisco, california   \n",
      "\n",
      "                                      offspring orientation  \\\n",
      "0  doesn&rsquo;t have kids, but might want them    straight   \n",
      "1  doesn&rsquo;t have kids, but might want them    straight   \n",
      "2                                           NaN    straight   \n",
      "3                       doesn&rsquo;t want kids    straight   \n",
      "4                                           NaN    straight   \n",
      "\n",
      "                        pets                                  religion sex  \\\n",
      "0  likes dogs and likes cats     agnosticism and very serious about it   m   \n",
      "1  likes dogs and likes cats  agnosticism but not too serious about it   m   \n",
      "2                   has cats                                       NaN   m   \n",
      "3                 likes cats                                       NaN   m   \n",
      "4  likes dogs and likes cats                                       NaN   m   \n",
      "\n",
      "                                 sign     smokes  \\\n",
      "0                              gemini  sometimes   \n",
      "1                              cancer         no   \n",
      "2  pisces but it doesn&rsquo;t matter         no   \n",
      "3                              pisces         no   \n",
      "4                            aquarius         no   \n",
      "\n",
      "                                              speaks     status  \n",
      "0                                            english     single  \n",
      "1  english (fluently), spanish (poorly), french (...     single  \n",
      "2                               english, french, c++  available  \n",
      "3                           english, german (poorly)     single  \n",
      "4                                            english     single  \n",
      "\n",
      "[5 rows x 31 columns]\n"
     ]
    }
   ],
   "source": [
    "print(profiles.head())"
   ]
  },
  {
   "cell_type": "markdown",
   "metadata": {},
   "source": [
    "There are 31 columns in the dataframe, which means there are 31 features. The features are the following:"
   ]
  },
  {
   "cell_type": "code",
   "execution_count": 5,
   "metadata": {},
   "outputs": [
    {
     "name": "stdout",
     "output_type": "stream",
     "text": [
      "<class 'pandas.core.frame.DataFrame'>\n",
      "RangeIndex: 59946 entries, 0 to 59945\n",
      "Data columns (total 31 columns):\n",
      " #   Column       Non-Null Count  Dtype  \n",
      "---  ------       --------------  -----  \n",
      " 0   age          59946 non-null  int64  \n",
      " 1   body_type    54650 non-null  object \n",
      " 2   diet         35551 non-null  object \n",
      " 3   drinks       56961 non-null  object \n",
      " 4   drugs        45866 non-null  object \n",
      " 5   education    53318 non-null  object \n",
      " 6   essay0       54458 non-null  object \n",
      " 7   essay1       52374 non-null  object \n",
      " 8   essay2       50308 non-null  object \n",
      " 9   essay3       48470 non-null  object \n",
      " 10  essay4       49409 non-null  object \n",
      " 11  essay5       49096 non-null  object \n",
      " 12  essay6       46175 non-null  object \n",
      " 13  essay7       47495 non-null  object \n",
      " 14  essay8       40721 non-null  object \n",
      " 15  essay9       47343 non-null  object \n",
      " 16  ethnicity    54266 non-null  object \n",
      " 17  height       59943 non-null  float64\n",
      " 18  income       59946 non-null  int64  \n",
      " 19  job          51748 non-null  object \n",
      " 20  last_online  59946 non-null  object \n",
      " 21  location     59946 non-null  object \n",
      " 22  offspring    24385 non-null  object \n",
      " 23  orientation  59946 non-null  object \n",
      " 24  pets         40025 non-null  object \n",
      " 25  religion     39720 non-null  object \n",
      " 26  sex          59946 non-null  object \n",
      " 27  sign         48890 non-null  object \n",
      " 28  smokes       54434 non-null  object \n",
      " 29  speaks       59896 non-null  object \n",
      " 30  status       59946 non-null  object \n",
      "dtypes: float64(1), int64(2), object(28)\n",
      "memory usage: 14.2+ MB\n"
     ]
    }
   ],
   "source": [
    "profiles.info()"
   ]
  },
  {
   "cell_type": "markdown",
   "metadata": {},
   "source": [
    "Next, we try to find the unique values for each of the features."
   ]
  },
  {
   "cell_type": "code",
   "execution_count": 6,
   "metadata": {},
   "outputs": [
    {
     "name": "stdout",
     "output_type": "stream",
     "text": [
      "age\n",
      "[ 22  35  38  23  29  32  31  24  37  28  30  39  33  26  27  20  25  40\n",
      "  36  21  34  43  46  41  42  45  18  55  50  59  44  48  54  51  62  52\n",
      "  19  58  66  53  63  47  49  61  60  57  56  65  64  68 110  69  67 109]\n",
      "\n",
      "body_type\n",
      "['a little extra' 'average' 'thin' 'athletic' 'fit' nan 'skinny' 'curvy'\n",
      " 'full figured' 'jacked' 'rather not say' 'used up' 'overweight']\n",
      "\n",
      "diet\n",
      "['strictly anything' 'mostly other' 'anything' 'vegetarian' nan\n",
      " 'mostly anything' 'mostly vegetarian' 'strictly vegan'\n",
      " 'strictly vegetarian' 'mostly vegan' 'strictly other' 'mostly halal'\n",
      " 'other' 'vegan' 'mostly kosher' 'strictly halal' 'halal'\n",
      " 'strictly kosher' 'kosher']\n",
      "\n",
      "drinks\n",
      "['socially' 'often' 'not at all' 'rarely' nan 'very often' 'desperately']\n",
      "\n",
      "drugs\n",
      "['never' 'sometimes' nan 'often']\n",
      "\n",
      "education\n",
      "['working on college/university' 'working on space camp'\n",
      " 'graduated from masters program' 'graduated from college/university'\n",
      " 'working on two-year college' nan 'graduated from high school'\n",
      " 'working on masters program' 'graduated from space camp'\n",
      " 'college/university' 'dropped out of space camp'\n",
      " 'graduated from ph.d program' 'graduated from law school'\n",
      " 'working on ph.d program' 'two-year college'\n",
      " 'graduated from two-year college' 'working on med school'\n",
      " 'dropped out of college/university' 'space camp'\n",
      " 'graduated from med school' 'dropped out of high school'\n",
      " 'working on high school' 'masters program' 'dropped out of ph.d program'\n",
      " 'dropped out of two-year college' 'dropped out of med school'\n",
      " 'high school' 'working on law school' 'law school'\n",
      " 'dropped out of masters program' 'ph.d program'\n",
      " 'dropped out of law school' 'med school']\n",
      "\n",
      "essay0\n",
      "[\"about me:<br />\\n<br />\\ni would love to think that i was some some kind of intellectual:\\neither the dumbest smart guy, or the smartest dumb guy. can't say i\\ncan tell the difference. i love to talk about ideas and concepts. i\\nforge odd metaphors instead of reciting cliches. like the\\nsimularities between a friend of mine's house and an underwater\\nsalt mine. my favorite word is salt by the way (weird choice i\\nknow). to me most things in life are better as metaphors. i seek to\\nmake myself a little better everyday, in some productively lazy\\nway. got tired of tying my shoes. considered hiring a five year\\nold, but would probably have to tie both of our shoes... decided to\\nonly wear leather shoes dress shoes.<br />\\n<br />\\nabout you:<br />\\n<br />\\nyou love to have really serious, really deep conversations about\\nreally silly stuff. you have to be willing to snap me out of a\\nlight hearted rant with a kiss. you don't have to be funny, but you\\nhave to be able to make me laugh. you should be able to bend spoons\\nwith your mind, and telepathically make me smile while i am still\\nat work. you should love life, and be cool with just letting the\\nwind blow. extra points for reading all this and guessing my\\nfavorite video game (no hints given yet). and lastly you have a\\ngood attention span.\"\n",
      " \"i am a chef: this is what that means.<br />\\n1. i am a workaholic.<br />\\n2. i love to cook regardless of whether i am at work.<br />\\n3. i love to drink and eat foods that are probably really bad for\\nme.<br />\\n4. i love being around people that resemble line 1-3.<br />\\ni love the outdoors and i am an avid skier. if its snowing i will\\nbe in tahoe at the very least. i am a very confident and friendly.\\ni'm not interested in acting or being a typical guy. i have no time\\nor patience for rediculous acts of territorial pissing. overall i\\nam a very likable easygoing individual. i am very adventurous and\\nalways looking forward to doing new things and hopefully sharing it\\nwith the right person.\"\n",
      " \"i'm not ashamed of much, but writing public text on an online\\ndating site makes me pleasantly uncomfortable. i'll try to be as\\nearnest as possible in the noble endeavor of standing naked before\\nthe world.<br />\\n<br />\\ni've lived in san francisco for 15 years, and both love it and find\\nmyself frustrated with its deficits. lots of great friends and\\nacquaintances (which increases my apprehension to put anything on\\nthis site), but i'm feeling like meeting some new people that\\naren't just friends of friends. it's okay if you are a friend of a\\nfriend too. chances are, if you make it through the complex\\nfiltering process of multiple choice questions, lifestyle\\nstatistics, photo scanning, and these indulgent blurbs of text\\nwithout moving quickly on to another search result, you are\\nprobably already a cultural peer and at most 2 people removed. at\\nfirst, i thought i should say as little as possible here to avoid\\nyou, but that seems silly.<br />\\n<br />\\nas far as culture goes, i'm definitely more on the weird side of\\nthe spectrum, but i don't exactly wear it on my sleeve. once you\\nget me talking, it will probably become increasingly apparent that\\nwhile i'd like to think of myself as just like everybody else (and\\nby some definition i certainly am), most people don't see me that\\nway. that's fine with me. most of the people i find myself\\ngravitating towards are pretty weird themselves. you probably are\\ntoo.\"\n",
      " ...\n",
      " 'hello! i enjoy traveling, watching movies, and hanging out with\\nfriends. my #1 rule for traveling is to go to places where where i\\ncan drink the tap water. =p i\\'ve been to japan, washington dc, new\\nyork, london, paris, china (an exception to rule #1) and many other\\nplaces. for the year, i haven\\'t decided yet. maybe toronto and\\nmontreal. my taste in movies (and television) fall into three\\ngenres: comedies, action, and drama. it doesn\\'t matter if the film\\nis in english or sub-titled (i can\\'t stand dubbed), but it has to\\nbe well-written. aside from the traveling and movies, i also enjoy\\nbroadway shows (4 shows in 5 nights in vegas a couple years ago),\\nbay area sports (except the sharks), online gaming, good food, and\\nkeeping up with current events.<br />\\n<br />\\nmy friends would describe me as easy-going, goofy, thoughtful,\\nconsistent, honest, and dependable. i can get serious when i have\\nto be. overall, i like to think that i lead my life by doing what\\nis \"right\".'\n",
      " '\"all i have in this world are my balls and my integrity and no one\\ncan take either away from you\" -momma linda (her daughter and i\\nwent to the same nursery)<br />\\n<br />\\nweed and alcohol are my vices...oh, and the company of women'\n",
      " 'is it odd that having a little \"enemy\" status with someone, makes\\nthem seem more interesting to me?<br />\\n<br />\\ni\\'m an extremely socially-graced outcast. my totally awkward\\nchildhood surprisingly yielded to something extroverted, thoughtful\\nand diplomatic. i\\'m a nice guy, i love people, i love humanity, and\\ni can get pretty angry about all of the above. if i end up the\\nloudest guy in the room, i\\'m never so loud that i cant hear what\\nanyone else is saying.<br />\\n<br />\\nthough i am often inappropriate and desperately unable to pass up a\\njoke, no one has ever punched me. i think too much, and talk to\\nmuch, but know when to shut the f up.<br />\\n<br />\\n<em>for the sake of accurate representation</em>, i\\'m going to\\nqualify my \"average\" body type as a bit of muscle and a bit of fat.\\nnote: i have recently become an ebook-reading-cardio-addict. now\\nthat i can jog and read oversized print at the same time i can\\'t\\nstay away from a treadmill. seriously, 4+ books, 60+ minutes 4+\\ntimes a week for 6 weeks and counting.']\n",
      "\n",
      "essay1\n",
      "['currently working as an international agent for a freight\\nforwarding company. import, export, domestic you know the\\nworks.<br />\\nonline classes and trying to better myself in my free time. perhaps\\na hours worth of a good book or a video game on a lazy sunday.'\n",
      " 'dedicating everyday to being an unbelievable badass.'\n",
      " \"i make nerdy software for musicians, artists, and experimenters to\\nindulge in their own weirdness, but i like to spend time away from\\nthe computer when working on my artwork (which is typically more\\nconcerned with group dynamics and communication, than with visual\\nform, objects, or technology). i also record and deejay dance,\\nnoise, pop, and experimental music (most of which electronic or at\\nleast studio based). besides these relatively ego driven\\nactivities, i've been enjoying things like meditation and tai chi\\nto try and gently flirt with ego death.\"\n",
      " ...\n",
      " \"i'm a civil engineer, who enjoys helping the citizens of san san\\nfrancisco.\"\n",
      " 'following my dreams...<br />\\n\"you got a dream... you gotta protect it. people can\\'t do somethin\\'\\nthemselves, they wanna tell you you can\\'t do it. if you want\\nsomethin\\', go get it. period.\" -will smith in \"pursuit of\\nhappyness\"'\n",
      " \"i work with elderly people (psychotherapy and case management) and\\ni'm inching into public health (volunteer for now at a men's health\\nclinic). studying for my mft license exam. professionally, i have a\\npath for sure, and creatively i'm always working things out.\\nkeeping my sanity through excessive amounts of cardio. (muffin-top\\ngone!)\"]\n",
      "\n",
      "essay2\n",
      "['making people laugh.<br />\\nranting about a good salting.<br />\\nfinding simplicity in complexity, and complexity in simplicity.'\n",
      " 'being silly. having ridiculous amonts of fun wherever. being a\\nsmart ass. ohh and i can cook. ;)'\n",
      " 'improvising in different contexts. alternating between being\\npresent and decidedly outside of a moment, or trying to hold both\\nat once. rambling intellectual conversations that hold said\\nconversations in contempt while seeking to find something that\\ntranscends them. being critical while remaining generous. listening\\nto and using body language--often performed in caricature or large\\ngestures, if not outright interpretive dance. dry, dark, and\\nraunchy humor.'\n",
      " ...\n",
      " '<a class=\"ilink\" href=\"/interests?i=filmmaking\">filmmaking</a>,\\n<a class=\"ilink\" href=\"/interests?i=photography\">photography</a>,\\n<a class=\"ilink\" href=\"/interests?i=graphic+design\">graphic\\ndesign</a>, <a class=\"ilink\" href=\"/interests?i=web%0adesign\">web\\ndesign</a>, <a class=\"ilink\" href=\\n\"/interests?i=writing\">writing</a>, <a class=\"ilink\" href=\\n\"/interests?i=eating\">eating</a>, etc.'\n",
      " '- looking at things objectively<br />\\n- getting things done (but others may disagree) =p<br />\\n- remaining calm in any situation'\n",
      " \"i'm a great bullshitter. i don't know what it is but people just\\nplain believe the craziest shit i tell them. i'm a good\\nconversationalist (pre-req for bullshitting) - i can talk to anyone\\nabout anything. i have a good memory for most things (except names)\\nand my brain is a trap for random information. i'm also pretty good\\nat ranting and then talking the pitchforks out of the assembling\\nmob's hands (because i'm a lover not a riot leader). give me a job\\nto do and i'll to it thoughtfully and very well. jack of all\\ntrades.\"]\n",
      "\n",
      "essay3\n",
      "['the way i look. i am a six foot half asian, half caucasian mutt. it\\nmakes it tough not to notice me, and for me to blend in.'\n",
      " nan\n",
      " \"my large jaw and large glasses are the physical things people\\ncomment on the most. when sufficiently stimulated, i have an\\nunmistakable cackle of a laugh. after that, it goes in more\\ndirections than i care to describe right now. maybe i'll come back\\nto this.\"\n",
      " ...\n",
      " \"i'm quiet until i get used to the environment (but isn't that\\nnormal?).\"\n",
      " 'it used to be the hair until i mowed it off but i would have to say\\nthe dimples ever since i could remember, its always been about\\nthose indents in my cheeks. i think its because i do smile more\\nthan the average person. not those fake smiles either. smiling is\\nall in the eyes.'\n",
      " \"either that i am funny/sarcastic, or that i am totally insulting\\nfollowed by the realization that i am just a nice guy, who at times\\ndoesn't communicate in the most delicate ways.<br />\\n<br />\\nwhen i am in a reserved mood ... maybe it is my loud laugh? my big\\nnose? something i'm totally unaware of?\"]\n",
      "\n",
      "essay4\n",
      "[\"books:<br />\\nabsurdistan, the republic, of mice and men (only book that made me\\nwant to cry), catcher in the rye, the prince.<br />\\n<br />\\nmovies:<br />\\ngladiator, operation valkyrie, the producers, down periscope.<br />\\n<br />\\nshows:<br />\\nthe borgia, arrested development, game of thrones, monty\\npython<br />\\n<br />\\nmusic:<br />\\naesop rock, hail mary mallon, george thorogood and the delaware\\ndestroyers, felt<br />\\n<br />\\nfood:<br />\\ni'm down for anything.\"\n",
      " \"i am die hard christopher moore fan. i don't really watch a lot of\\ntv unless there is humor involved. i am kind of stuck on 90's\\nalternative music. i am pretty much a fan of everything though... i\\ndo need to draw a line at most types of electronica.\"\n",
      " 'okay this is where the cultural matrix gets so specific, it\\'s like\\nbeing in the crosshairs.<br />\\n<br />\\nfor what it\\'s worth, i find myself reading more non-fiction than\\nfiction. it\\'s usually some kind of philosophy, art, or science text\\nby silly authors such as ranciere, de certeau, bataille,\\nbaudrillard, butler, stein, arendt, nietzche, zizek, etc. i\\'ll\\noften throw in some weird new age or pop-psychology book in the mix\\nas well. as for fiction, i enjoy what little i\\'ve read of eco,\\nperec, wallace, bolao, dick, vonnegut, atwood, delilo, etc. when i\\nwas young, i was a rabid asimov reader.<br />\\n<br />\\ndirectors i find myself drawn to are makavejev, kuchar, jodorowsky,\\nherzog, hara, klein, waters, verhoeven, ackerman, hitchcock, lang,\\ngorin, goddard, miike, ohbayashi, tarkovsky, sokurov, warhol, etc.\\nbut i also like a good amount of \"trashy\" stuff. too much to\\nname.<br />\\n<br />\\ni definitely enjoy the character development that happens in long\\nform episodic television over the course of 10-100 episodes, which\\na 1-2hr movie usually can\\'t compete with. some of my recent tv\\nfavorites are: breaking bad, the wire, dexter, true blood, the\\nprisoner, lost, fringe.<br />\\n<br />\\na smattered sampling of the vast field of music i like and deejay:\\nart ensemble, sun ra, evan parker, lil wayne, dj funk, mr. fingers,\\nmaurizio, rob hood, dan bell, james blake, nonesuch recordings,\\nomar souleyman, ethiopiques, fela kuti, john cage, meredith monk,\\nrobert ashley, terry riley, yoko ono, merzbow, tom tom club, jit,\\njuke, bounce, hyphy, snap, crunk, b\\'more, kuduro, pop, noise, jazz,\\ntechno, house, acid, new/no wave, (post)punk, etc.<br />\\n<br />\\na few of the famous art/dance/theater folk that might locate my\\nsensibility: andy warhol, bruce nauman, yayoi kusama, louise\\nbourgeois, tino sehgal, george kuchar, michel duchamp, marina\\nabramovic, gelatin, carolee schneeman, gustav metzger, mike kelly,\\nmike smith, andrea fraser, gordon matta-clark, jerzy grotowski,\\nsamuel beckett, antonin artaud, tadeusz kantor, anna halperin,\\nmerce cunningham, etc. i\\'m clearly leaving out a younger generation\\nof contemporary artists, many of whom are friends.<br />\\n<br />\\nlocal food regulars: sushi zone, chow, ppq, pagolac, lers ros,\\nburma superstar, minako, shalimar, delfina pizza, rosamunde,\\narinells, suppenkuche, cha-ya, blue plate, golden era, etc.'\n",
      " ...\n",
      " 'last book: \"game change\".<br />\\nmovies: bourne series, action, smart comedies (in contrast to\\nslapstick), must have a decent plot<br />\\nshows: local sports, ncis, good wife, top chef, currently exploring\\njapanese dramas<br />\\nmusic: koit...<br />\\nfood: korean bbq, japanese, chinese, thai, italian, burgers, almost\\nanything'\n",
      " \"where to begin musically: right now i listen to a lot of mgmt, mike\\nposner, above and beyond, drake, the roots, trey songz, usher, bay\\nmusic, local artist and anything that will get me to dance. i am\\nnot ashamed to admit i am a huge coldplay fan. the killers are\\nawesome live. i love hip hop with a message and relevant to my\\nlifestyle: guns money and drugs if only my life were that\\ninteresting. talib kweli, mos def, common, atmosphere (slug) fill\\nmy speakers/headphones mostly.<br />\\n<br />\\ni will read any book, magazine, online article that has to do with\\nthe body and/or mind.<br />\\n<br />\\ni love to cook and will try anything once when it comes to foodsi'm\\nnot familiar with but i consider myself to be a well cultured\\nconnoisseur when it comes to eating out.<br />\\n<br />\\nshows:<br />\\n-californication<br />\\n-modern family<br />\\n-breaking bad<br />\\n-weeds<br />\\n-anything that can keep me glued to a couch for 24 minutes\"\n",
      " 'i just read the help by kathryn stockett, sooooooo gooooood! just\\nfinished, the time machine by h.g. wells - i think about this book\\na lot. currently reading a totally sad true love story, interesting\\nbook. some of my faves are the confederacy of dunces, lolita, devil\\nin the white city. i am just now becoming a regular reader and i\\nlove it!<br />\\n<br />\\nlove music too many to list ... more later.<br />\\nlove movies, see everything i can - some favorites: dr.\\nstrangelove, eternal sunshine of a spotless mind, wall-e ... more\\nlater.']\n",
      "\n",
      "essay5\n",
      "['food.<br />\\nwater.<br />\\ncell phone.<br />\\nshelter.'\n",
      " \"delicious porkness in all of its glories.<br />\\nmy big ass doughboy's sinking into 15 new inches.<br />\\nmy overly resilient liver.<br />\\na good sharp knife.<br />\\nmy ps3... it plays blurays too. ;)<br />\\nmy over the top energy and my outlook on life... just give me a bag\\nof lemons and see what happens. ;)\"\n",
      " 'movement<br />\\nconversation<br />\\ncreation<br />\\ncontemplation<br />\\ntouch<br />\\nhumor'\n",
      " ...\n",
      " '- iphone<br />\\n- friends and family<br />\\n- internet<br />\\n- bay area sports<br />\\n- humor<br />\\n- point &amp; shoot camera'\n",
      " 'music, family, friends, a basketball, hoop, something to read'\n",
      " '1. family &amp; friends &amp; other humans - interaction<br />\\n2. music &amp; movies &amp; books - entertainment<br />\\n3. computer &amp; electronics<br />\\n4. clean underwear<br />\\n5. exercise (with a book)<br />\\n6. caffeine']\n",
      "\n",
      "essay6\n",
      "['duality and humorous things' nan 'cats and german philosophy' ...\n",
      " 'aside from work, how to improve my home.'\n",
      " 'what can i do to make someone chuckle....'\n",
      " \"sex, myself, other people, how amazing everything is, how fucked up\\neverything is, that damn song stuck in my head, whats to eat, whats\\nto do, something inappropriate. why can't i stop thinking about\\nthings that aren't worth thinking about.\"]\n",
      "\n",
      "essay7\n",
      "['trying to find someone to hang out with. i am down for anything\\nexcept a club.'\n",
      " nan 'viewing. listening. dancing. talking. drinking. performing.' ...\n",
      " 'out enjoying friendly conversation over dinner.'\n",
      " 'what i would do on any other day. everydays a friday ..'\n"
     ]
    },
    {
     "name": "stdout",
     "output_type": "stream",
     "text": [
      " 'out at happy hour with my friends, running into other friends,\\nranting about something hardly worth the rant .. or at home.']\n",
      "\n",
      "essay8\n",
      "['i am new to california and looking for someone to wisper my secrets\\nto.'\n",
      " 'i am very open and will share just about anything.'\n",
      " 'when i was five years old, i was known as \"the boogerman\".' ...\n",
      " 'please let me think about this more.'\n",
      " \"i like walking around in other people's house naked. seriously.\\nbodies are beautiful and it makes an awkward situation funny!\"\n",
      " 'i wish i could cry like holly hunter in broadcast news.']\n",
      "\n",
      "essay9\n",
      "['you want to be swept off your feet!<br />\\nyou are tired of the norm.<br />\\nyou want to catch a coffee or a bite.<br />\\nor if you want to talk philosophy.'\n",
      " nan\n",
      " 'you are bright, open, intense, silly, ironic, critical, caring,\\ngenerous, looking for an exploration, rather than finding \"a match\"\\nof some predetermined qualities.<br />\\n<br />\\ni\\'m currently in a fabulous and open relationship, so you should be\\ncomfortable with that.'\n",
      " ... 'we have similar interests.' 'you are interested and interesting...'\n",
      " 'if you have a back-bone, an opinion, a sense of humor, want to meet\\nface-to-face.']\n",
      "\n",
      "ethnicity\n",
      "['asian, white' 'white' nan 'asian, black, other' 'white, other'\n",
      " 'hispanic / latin, white' 'hispanic / latin' 'pacific islander, white'\n",
      " 'asian' 'black, white' 'pacific islander' 'asian, native american'\n",
      " 'asian, pacific islander' 'black, native american, white'\n",
      " 'middle eastern, other' 'native american, white' 'indian' 'black'\n",
      " 'black, native american, hispanic / latin, other'\n",
      " 'black, native american, hispanic / latin'\n",
      " 'asian, black, pacific islander'\n",
      " 'asian, middle eastern, black, native american, indian, pacific islander, hispanic / latin, white, other'\n",
      " 'other' 'hispanic / latin, other' 'asian, black' 'middle eastern, white'\n",
      " 'native american, white, other' 'black, native american'\n",
      " 'black, white, other' 'hispanic / latin, white, other' 'middle eastern'\n",
      " 'black, other' 'native american, hispanic / latin, white' 'black, indian'\n",
      " 'indian, white, other' 'middle eastern, indian, other'\n",
      " 'black, native american, hispanic / latin, white, other'\n",
      " 'pacific islander, hispanic / latin' 'black, hispanic / latin, white'\n",
      " 'native american' 'indian, white' 'asian, white, other'\n",
      " 'black, hispanic / latin' 'asian, hispanic / latin, white'\n",
      " 'middle eastern, hispanic / latin'\n",
      " 'asian, black, native american, pacific islander, white'\n",
      " 'middle eastern, indian' 'asian, indian' 'pacific islander, other'\n",
      " 'black, native american, white, other' 'black, pacific islander'\n",
      " 'middle eastern, native american, white'\n",
      " 'asian, native american, white, other'\n",
      " 'pacific islander, hispanic / latin, white' 'indian, other'\n",
      " 'asian, pacific islander, other' 'black, hispanic / latin, other'\n",
      " 'asian, black, native american'\n",
      " 'black, native american, hispanic / latin, white'\n",
      " 'native american, hispanic / latin' 'indian, hispanic / latin'\n",
      " 'native american, pacific islander'\n",
      " 'asian, black, native american, hispanic / latin, white'\n",
      " 'asian, black, white'\n",
      " 'asian, black, native american, pacific islander, other'\n",
      " 'middle eastern, hispanic / latin, white'\n",
      " 'asian, pacific islander, white'\n",
      " 'asian, native american, hispanic / latin, white, other'\n",
      " 'asian, hispanic / latin' 'asian, pacific islander, white, other'\n",
      " 'middle eastern, white, other'\n",
      " 'asian, pacific islander, hispanic / latin'\n",
      " 'black, native american, indian, other'\n",
      " 'native american, hispanic / latin, white, other'\n",
      " 'black, native american, other' 'asian, other'\n",
      " 'middle eastern, hispanic / latin, other'\n",
      " 'pacific islander, hispanic / latin, white, other'\n",
      " 'asian, black, hispanic / latin'\n",
      " 'asian, pacific islander, hispanic / latin, white'\n",
      " 'asian, black, native american, white'\n",
      " 'asian, middle eastern, white, other'\n",
      " 'native american, pacific islander, hispanic / latin'\n",
      " 'asian, native american, white'\n",
      " 'native american, pacific islander, hispanic / latin, white, other'\n",
      " 'indian, pacific islander' 'asian, middle eastern, black'\n",
      " 'asian, middle eastern, indian' 'asian, middle eastern, white'\n",
      " 'pacific islander, white, other'\n",
      " 'black, pacific islander, hispanic / latin' 'asian, middle eastern'\n",
      " 'asian, hispanic / latin, other'\n",
      " 'middle eastern, black, native american, indian, white, other'\n",
      " 'middle eastern, pacific islander, other' 'middle eastern, black'\n",
      " 'asian, indian, pacific islander'\n",
      " 'black, native american, pacific islander' 'native american, indian'\n",
      " 'asian, middle eastern, black, native american, indian, pacific islander, hispanic / latin, white'\n",
      " 'black, indian, other'\n",
      " 'asian, middle eastern, indian, hispanic / latin, white, other'\n",
      " 'middle eastern, black, white' 'asian, hispanic / latin, white, other'\n",
      " 'native american, hispanic / latin, other'\n",
      " 'middle eastern, black, pacific islander, white'\n",
      " 'asian, black, native american, hispanic / latin'\n",
      " 'native american, other' 'black, indian, white'\n",
      " 'asian, native american, hispanic / latin, white'\n",
      " 'black, native american, indian, white'\n",
      " 'middle eastern, black, indian, pacific islander, hispanic / latin, white'\n",
      " 'middle eastern, hispanic / latin, white, other'\n",
      " 'asian, black, native american, other'\n",
      " 'native american, pacific islander, hispanic / latin, white'\n",
      " 'asian, indian, other'\n",
      " 'middle eastern, native american, hispanic / latin, white, other'\n",
      " 'asian, middle eastern, black, pacific islander, hispanic / latin, white'\n",
      " 'black, native american, pacific islander, hispanic / latin, white, other'\n",
      " 'asian, middle eastern, native american, hispanic / latin, white'\n",
      " 'asian, middle eastern, black, native american, pacific islander, hispanic / latin, white, other'\n",
      " 'asian, indian, white' 'native american, pacific islander, white, other'\n",
      " 'middle eastern, black, native american, indian, pacific islander, hispanic / latin, white'\n",
      " 'asian, middle eastern, other' 'middle eastern, pacific islander'\n",
      " 'asian, black, hispanic / latin, other'\n",
      " 'asian, middle eastern, black, native american, hispanic / latin, white'\n",
      " 'middle eastern, black, hispanic / latin'\n",
      " 'black, pacific islander, white'\n",
      " 'asian, middle eastern, black, native american, indian, pacific islander, hispanic / latin, other'\n",
      " 'middle eastern, black, native american, indian, hispanic / latin, white'\n",
      " 'asian, pacific islander, hispanic / latin, white, other'\n",
      " 'middle eastern, indian, white' 'asian, indian, white, other'\n",
      " 'middle eastern, black, native american, white, other'\n",
      " 'black, native american, pacific islander, other'\n",
      " 'middle eastern, black, native american, white'\n",
      " 'asian, indian, pacific islander, other'\n",
      " 'asian, black, native american, white, other'\n",
      " 'black, indian, hispanic / latin, white'\n",
      " 'asian, middle eastern, black, native american, indian, pacific islander, white'\n",
      " 'asian, black, pacific islander, hispanic / latin'\n",
      " 'middle eastern, black, native american, indian, pacific islander, hispanic / latin, white, other'\n",
      " 'asian, black, native american, indian'\n",
      " 'asian, black, indian, hispanic / latin, other'\n",
      " 'indian, hispanic / latin, other' 'asian, indian, hispanic / latin'\n",
      " 'asian, native american, pacific islander, white, other'\n",
      " 'asian, black, native american, indian, hispanic / latin, white, other'\n",
      " 'asian, indian, hispanic / latin, white'\n",
      " 'pacific islander, hispanic / latin, other'\n",
      " 'asian, indian, pacific islander, hispanic / latin, white, other'\n",
      " 'indian, hispanic / latin, white'\n",
      " 'asian, native american, pacific islander, hispanic / latin, white, other'\n",
      " 'asian, pacific islander, hispanic / latin, other'\n",
      " 'asian, black, hispanic / latin, white, other'\n",
      " 'black, indian, hispanic / latin'\n",
      " 'middle eastern, black, native american, hispanic / latin, white'\n",
      " 'black, pacific islander, other'\n",
      " 'black, native american, pacific islander, white'\n",
      " 'asian, black, native american, pacific islander'\n",
      " 'asian, indian, hispanic / latin, other'\n",
      " 'middle eastern, native american'\n",
      " 'middle eastern, native american, hispanic / latin'\n",
      " 'black, hispanic / latin, white, other'\n",
      " 'asian, native american, pacific islander, hispanic / latin, white'\n",
      " 'asian, native american, hispanic / latin'\n",
      " 'black, native american, indian, hispanic / latin, white, other'\n",
      " 'asian, middle eastern, hispanic / latin, white'\n",
      " 'black, native american, pacific islander, white, other'\n",
      " 'native american, indian, pacific islander, hispanic / latin'\n",
      " 'black, indian, white, other'\n",
      " 'asian, middle eastern, native american, pacific islander, hispanic / latin, white, other'\n",
      " 'native american, pacific islander, white'\n",
      " 'middle eastern, indian, white, other' 'asian, black, white, other'\n",
      " 'middle eastern, native american, hispanic / latin, white'\n",
      " 'indian, hispanic / latin, white, other'\n",
      " 'asian, middle eastern, black, pacific islander'\n",
      " 'asian, middle eastern, black, indian, pacific islander, hispanic / latin, white'\n",
      " 'asian, middle eastern, indian, other'\n",
      " 'asian, middle eastern, black, white, other'\n",
      " 'black, native american, pacific islander, hispanic / latin, white'\n",
      " 'black, native american, indian, pacific islander, hispanic / latin'\n",
      " 'asian, black, pacific islander, white'\n",
      " 'middle eastern, pacific islander, hispanic / latin'\n",
      " 'black, native american, indian, white, other'\n",
      " 'asian, black, hispanic / latin, white'\n",
      " 'asian, black, native american, indian, pacific islander, white'\n",
      " 'asian, black, native american, indian, pacific islander, hispanic / latin'\n",
      " 'asian, middle eastern, hispanic / latin, white, other'\n",
      " 'middle eastern, black, native american, indian'\n",
      " 'asian, native american, pacific islander'\n",
      " 'asian, black, native american, pacific islander, white, other'\n",
      " 'asian, middle eastern, hispanic / latin'\n",
      " 'asian, black, pacific islander, other'\n",
      " 'asian, native american, indian, pacific islander, hispanic / latin, white'\n",
      " 'middle eastern, native american, white, other'\n",
      " 'asian, native american, hispanic / latin, other'\n",
      " 'native american, indian, white'\n",
      " 'black, native american, pacific islander, hispanic / latin'\n",
      " 'asian, native american, pacific islander, white'\n",
      " 'black, native american, indian'\n",
      " 'indian, pacific islander, hispanic / latin, white'\n",
      " 'asian, middle eastern, black, native american, indian, pacific islander, hispanic / latin'\n",
      " 'asian, middle eastern, indian, hispanic / latin'\n",
      " 'asian, middle eastern, native american, pacific islander, other'\n",
      " 'black, native american, indian, pacific islander'\n",
      " 'asian, middle eastern, native american, pacific islander, white, other'\n",
      " 'asian, native american, other' 'middle eastern, black, other'\n",
      " 'asian, black, pacific islander, hispanic / latin, white'\n",
      " 'asian, middle eastern, native american, indian, pacific islander, hispanic / latin, white'\n",
      " 'asian, native american, indian, pacific islander, hispanic / latin, white, other'\n",
      " 'asian, middle eastern, black, pacific islander, hispanic / latin'\n",
      " 'asian, black, pacific islander, white, other' 'asian, black, indian']\n",
      "\n",
      "height\n",
      "[75. 70. 68. 71. 66. 67. 65. 72. 62. 64. 69. 73. 74. 60. 63. 76. 61. 78.\n",
      " 79. 59. 80. 91. 83. 77. 58. 56. 95. 57. 87. 81. 36. 43. 52. 55. 53. 93.\n",
      "  8. 54. 82.  3. 86. 42. 84. 94. 50.  6. 47. 49. 48. 90. 88. nan 37.  9.\n",
      " 51.  1. 92. 26. 85. 89.  4.]\n",
      "\n",
      "income\n",
      "[     -1   80000   20000   40000   30000   50000   60000 1000000  150000\n",
      "  100000  500000   70000  250000]\n",
      "\n",
      "job\n",
      "['transportation' 'hospitality / travel' nan 'student'\n",
      " 'artistic / musical / writer' 'computer / hardware / software'\n",
      " 'banking / financial / real estate' 'entertainment / media'\n",
      " 'sales / marketing / biz dev' 'other' 'medicine / health'\n",
      " 'science / tech / engineering' 'executive / management'\n",
      " 'education / academia' 'clerical / administrative'\n",
      " 'construction / craftsmanship' 'rather not say' 'political / government'\n",
      " 'law / legal services' 'unemployed' 'military' 'retired']\n",
      "\n",
      "last_online\n",
      "['2012-06-28-20-30' '2012-06-29-21-41' '2012-06-27-09-10' ...\n",
      " '2012-06-02-08-16' '2012-02-17-20-44' '2012-06-14-16-51']\n",
      "\n",
      "location\n",
      "['south san francisco, california' 'oakland, california'\n",
      " 'san francisco, california' 'berkeley, california'\n",
      " 'belvedere tiburon, california' 'san mateo, california'\n",
      " 'daly city, california' 'san leandro, california' 'atherton, california'\n",
      " 'san rafael, california' 'walnut creek, california'\n",
      " 'menlo park, california' 'belmont, california' 'san jose, california'\n",
      " 'palo alto, california' 'emeryville, california' 'el granada, california'\n",
      " 'castro valley, california' 'fairfax, california'\n",
      " 'mountain view, california' 'burlingame, california'\n",
      " 'martinez, california' 'pleasant hill, california' 'hayward, california'\n",
      " 'alameda, california' 'vallejo, california' 'benicia, california'\n",
      " 'el cerrito, california' 'mill valley, california' 'richmond, california'\n",
      " 'redwood city, california' 'el sobrante, california'\n",
      " 'stanford, california' 'san pablo, california' 'novato, california'\n",
      " 'pacifica, california' 'lafayette, california'\n",
      " 'half moon bay, california' 'fremont, california' 'orinda, california'\n",
      " 'san anselmo, california' 'corte madera, california' 'albany, california'\n",
      " 'san carlos, california' 'san lorenzo, california'\n",
      " 'foster city, california' 'hercules, california' 'santa cruz, california'\n",
      " 'bolinas, california' 'sausalito, california' 'millbrae, california'\n",
      " 'larkspur, california' 'moraga, california' 'san bruno, california'\n",
      " 'petaluma, california' 'pinole, california' 'san geronimo, california'\n",
      " 'crockett, california' 'boulder, colorado' 'brisbane, california'\n",
      " 'freedom, california' 'montara, california' 'green brae, california'\n",
      " 'woodside, california' 'new york, new york' 'ross, california'\n",
      " 'east palo alto, california' 'san quentin, california' 'portland, oregon'\n",
      " 'rodeo, california' 'hacienda heights, california' 'woodacre, california'\n",
      " 'westlake, california' 'riverside, california' 'rohnert park, california'\n",
      " 'sacramento, california' 'point richmond, california'\n",
      " 'san diego, california' 'canyon country, california' 'tucson, arizona'\n",
      " 'honolulu, hawaii' 'billings, montana' 'west oakland, california'\n",
      " 'kentfield, california' 'milwaukee, wisconsin' 'woodbridge, virginia'\n",
      " 'glencove, california' 'tiburon, california' 'madrid, spain'\n",
      " 'las vegas, nevada' 'peoria, illinois' 'santa monica, california'\n",
      " 'bellwood, illinois' 'los angeles, california' 'moss beach, california'\n",
      " 'nha trang, vietnam' 'hillsborough, california' 'olema, california'\n",
      " 'union city, california' 'colma, california' 'cork, ireland'\n",
      " 'new orleans, louisiana' 'kensington, california'\n",
      " 'redwood shores, california' 'utica, michigan' 'brea, california'\n",
      " 'lagunitas, california' 'stinson beach, california'\n",
      " 'santa clara, california' 'studio city, california' 'concord, california'\n",
      " 'piedmont, california' 'grand rapids, michigan' 'seaside, california'\n",
      " 'leander, texas' 'forest knolls, california' 'edinburgh, united kingdom'\n",
      " 'magalia, california' 'london, united kingdom' 'astoria, new york'\n",
      " 'chicago, illinois' 'orange, california' 'south wellfleet, massachusetts'\n",
      " 'bayshore, california' 'asheville, north carolina'\n",
      " 'los gatos, california' 'boise, idaho' 'islip terrace, new york'\n",
      " 'sunnyvale, california' 'cambridge, massachusetts' 'lake orion, michigan'\n",
      " 'ozone park, new york' 'jackson, mississippi' 'ashland, california'\n",
      " 'south orange, new jersey' 'fort lauderdale, florida'\n",
      " 'minneapolis, minnesota' 'pasadena, california' 'atlanta, georgia'\n",
      " 'salt lake city, utah' 'arcadia, california' 'milpitas, california'\n",
      " 'san antonio, texas' 'port costa, california' 'nicasio, california'\n",
      " 'livingston, california' 'bellingham, washington' 'crowley, texas'\n",
      " 'boston, massachusetts' 'longwood, florida' 'fayetteville, west virginia'\n",
      " 'granite bay, california' 'isla vista, california' 'hilarita, california'\n",
      " 'campbell, california' 'stratford, connecticut' 'santa ana, california'\n",
      " 'santa rosa, california' 'kula, hawaii' 'murfreesboro, tennessee'\n",
      " 'brooklyn, new york' 'north hollywood, california'\n",
      " 'nevada city, california' 'providence, rhode island'\n",
      " 'stockton, california' 'marin city, california'\n",
      " 'washington, district of columbia' 'waterford, california'\n",
      " 'vancouver, british columbia, canada' 'muir beach, california'\n",
      " 'pacheco, california' 'irvine, california' 'kansas city, missouri'\n",
      " 'kassel, germany' 'canyon, california' 'philadelphia, pennsylvania'\n",
      " 'oceanview, california' 'long beach, new york' 'amsterdam, netherlands'\n",
      " 'taunton, massachusetts' 'napa, california' 'austin, texas'\n",
      " 'san luis obispo, california' 'modesto, california'\n",
      " 'bonaduz, switzerland' 'costa mesa, california' 'guadalajara, mexico'\n",
      " 'oakley, california' 'columbus, ohio' 'chico, california'\n",
      " 'south lake tahoe, california' 'vacaville, california' 'miami, florida'\n",
      " 'long beach, california' 'denver, colorado' 'seattle, washington'\n",
      " 'cincinnati, ohio' 'phoenix, arizona' 'rochester, michigan']\n",
      "\n",
      "offspring\n",
      "['doesn&rsquo;t have kids, but might want them' nan\n",
      " 'doesn&rsquo;t want kids' 'doesn&rsquo;t have kids, but wants them'\n",
      " 'doesn&rsquo;t have kids' 'wants kids' 'has a kid' 'has kids'\n",
      " 'doesn&rsquo;t have kids, and doesn&rsquo;t want any'\n",
      " 'has kids, but doesn&rsquo;t want more'\n",
      " 'has a kid, but doesn&rsquo;t want more' 'has a kid, and wants more'\n",
      " 'has kids, and might want more' 'might want kids'\n",
      " 'has a kid, and might want more' 'has kids, and wants more']\n",
      "\n",
      "orientation\n",
      "['straight' 'bisexual' 'gay']\n",
      "\n",
      "pets\n",
      "['likes dogs and likes cats' 'has cats' 'likes cats' nan\n",
      " 'has dogs and likes cats' 'likes dogs and has cats'\n",
      " 'likes dogs and dislikes cats' 'has dogs' 'has dogs and dislikes cats'\n",
      " 'likes dogs' 'has dogs and has cats' 'dislikes dogs and has cats'\n",
      " 'dislikes dogs and dislikes cats' 'dislikes cats'\n",
      " 'dislikes dogs and likes cats' 'dislikes dogs']\n",
      "\n",
      "religion\n",
      "['agnosticism and very serious about it'\n",
      " 'agnosticism but not too serious about it' nan 'atheism' 'christianity'\n",
      " 'christianity but not too serious about it'\n",
      " 'atheism and laughing about it' 'christianity and very serious about it'\n",
      " 'other' 'catholicism' 'catholicism but not too serious about it'\n",
      " 'catholicism and somewhat serious about it'\n",
      " 'agnosticism and somewhat serious about it'\n",
      " 'catholicism and laughing about it' 'agnosticism and laughing about it'\n",
      " 'agnosticism' 'atheism and somewhat serious about it'\n",
      " 'buddhism but not too serious about it'\n",
      " 'other but not too serious about it' 'buddhism'\n",
      " 'other and laughing about it' 'judaism but not too serious about it'\n",
      " 'buddhism and laughing about it' 'other and somewhat serious about it'\n",
      " 'other and very serious about it' 'hinduism but not too serious about it'\n",
      " 'atheism but not too serious about it' 'judaism'\n",
      " 'christianity and somewhat serious about it'\n",
      " 'hinduism and very serious about it' 'atheism and very serious about it'\n",
      " 'judaism and laughing about it' 'christianity and laughing about it'\n",
      " 'hinduism and laughing about it' 'buddhism and somewhat serious about it'\n",
      " 'islam and very serious about it' 'islam' 'hinduism'\n",
      " 'judaism and somewhat serious about it'\n",
      " 'catholicism and very serious about it'\n",
      " 'judaism and very serious about it'\n",
      " 'hinduism and somewhat serious about it'\n",
      " 'islam but not too serious about it' 'buddhism and very serious about it'\n",
      " 'islam and laughing about it' 'islam and somewhat serious about it']\n",
      "\n",
      "sex\n",
      "['m' 'f']\n",
      "\n",
      "sign\n",
      "['gemini' 'cancer' 'pisces but it doesn&rsquo;t matter' 'pisces'\n",
      " 'aquarius' 'taurus' 'virgo' 'sagittarius'\n",
      " 'gemini but it doesn&rsquo;t matter' 'cancer but it doesn&rsquo;t matter'\n",
      " 'leo but it doesn&rsquo;t matter' nan\n",
      " 'aquarius but it doesn&rsquo;t matter'\n",
      " 'aries and it&rsquo;s fun to think about'\n",
      " 'libra but it doesn&rsquo;t matter'\n",
      " 'pisces and it&rsquo;s fun to think about' 'libra'\n",
      " 'taurus but it doesn&rsquo;t matter'\n",
      " 'sagittarius but it doesn&rsquo;t matter' 'scorpio and it matters a lot'\n",
      " 'gemini and it&rsquo;s fun to think about'\n",
      " 'leo and it&rsquo;s fun to think about'\n",
      " 'cancer and it&rsquo;s fun to think about'\n",
      " 'libra and it&rsquo;s fun to think about'\n",
      " 'aquarius and it&rsquo;s fun to think about'\n",
      " 'virgo but it doesn&rsquo;t matter'\n",
      " 'scorpio and it&rsquo;s fun to think about'\n",
      " 'capricorn but it doesn&rsquo;t matter' 'scorpio'\n",
      " 'capricorn and it&rsquo;s fun to think about' 'leo'\n",
      " 'aries but it doesn&rsquo;t matter' 'aries'\n",
      " 'scorpio but it doesn&rsquo;t matter'\n",
      " 'sagittarius and it&rsquo;s fun to think about'\n",
      " 'libra and it matters a lot' 'taurus and it&rsquo;s fun to think about'\n",
      " 'leo and it matters a lot' 'virgo and it&rsquo;s fun to think about'\n",
      " 'cancer and it matters a lot' 'capricorn' 'pisces and it matters a lot'\n",
      " 'aries and it matters a lot' 'capricorn and it matters a lot'\n",
      " 'aquarius and it matters a lot' 'sagittarius and it matters a lot'\n",
      " 'gemini and it matters a lot' 'taurus and it matters a lot'\n",
      " 'virgo and it matters a lot']\n",
      "\n",
      "smokes\n",
      "['sometimes' 'no' nan 'when drinking' 'yes' 'trying to quit']\n",
      "\n",
      "speaks\n"
     ]
    },
    {
     "name": "stdout",
     "output_type": "stream",
     "text": [
      "['english' 'english (fluently), spanish (poorly), french (poorly)'\n",
      " 'english, french, c++' ...\n",
      " 'english (fluently), hindi (poorly), french (poorly), tamil (okay), spanish (poorly)'\n",
      " 'english (fluently), french (poorly), japanese (poorly), latin (poorly)'\n",
      " 'english (fluently), french, farsi']\n",
      "\n",
      "status\n",
      "['single' 'available' 'seeing someone' 'married' 'unknown']\n",
      "\n"
     ]
    }
   ],
   "source": [
    "for feature in profiles.columns:\n",
    "    print(feature)\n",
    "    print(profiles[feature].unique())\n",
    "    print(\"\")"
   ]
  },
  {
   "cell_type": "markdown",
   "metadata": {},
   "source": [
    "Some features, such as age, diet, drinks, have distinct unique values. Some features have open-ended answers such as essay0-essay9. Some features, such as ethnicity and sign, has distinct values with repeated answers. For example, for sign, \"gemini\", \"gemini but it doesn't matter\", \"gemini and it's fun to think about\", and more all means the person's sign is gemini. "
   ]
  },
  {
   "cell_type": "markdown",
   "metadata": {},
   "source": [
    "Now, the distribution of values of different features are investigated."
   ]
  },
  {
   "cell_type": "code",
   "execution_count": 7,
   "metadata": {},
   "outputs": [
    {
     "data": {
      "text/plain": [
       "<AxesSubplot:xlabel='age', ylabel='Count'>"
      ]
     },
     "execution_count": 7,
     "metadata": {},
     "output_type": "execute_result"
    },
    {
     "data": {
      "image/png": "[encoded data removed]",
      "text/plain": [
       "<Figure size 720x720 with 1 Axes>"
      ]
     },
     "metadata": {
      "needs_background": "light"
     },
     "output_type": "display_data"
    }
   ],
   "source": [
    "plt.figure(figsize=(10, 10))\n",
    "sns.histplot(profiles, x=\"age\")"
   ]
  },
  {
   "cell_type": "code",
   "execution_count": 8,
   "metadata": {},
   "outputs": [
    {
     "data": {
      "image/png": "[encoded data removed]",
      "text/plain": [
       "<Figure size 720x432 with 1 Axes>"
      ]
     },
     "metadata": {
      "needs_background": "light"
     },
     "output_type": "display_data"
    }
   ],
   "source": [
    "plt.figure(figsize=(10, 6))\n",
    "graph = sns.countplot(data=profiles, x=\"body_type\")\n",
    "graph.set_xticklabels(graph.get_xticklabels(), rotation=30)\n",
    "plt.show()"
   ]
  },
  {
   "cell_type": "code",
   "execution_count": 9,
   "metadata": {},
   "outputs": [
    {
     "data": {
      "image/png": "[encoded data removed]",
      "text/plain": [
       "<Figure size 1080x432 with 1 Axes>"
      ]
     },
     "metadata": {
      "needs_background": "light"
     },
     "output_type": "display_data"
    }
   ],
   "source": [
    "plt.figure(figsize=(15, 6))\n",
    "graph = sns.countplot(data=profiles, x=\"diet\")\n",
    "graph.set_xticklabels(graph.get_xticklabels(), rotation=30)\n",
    "plt.show()"
   ]
  },
  {
   "cell_type": "code",
   "execution_count": 10,
   "metadata": {},
   "outputs": [
    {
     "data": {
      "image/png": "[encoded data removed]",
      "text/plain": [
       "<Figure size 576x360 with 1 Axes>"
      ]
     },
     "metadata": {
      "needs_background": "light"
     },
     "output_type": "display_data"
    }
   ],
   "source": [
    "plt.figure(figsize=(8, 5))\n",
    "graph = sns.countplot(data=profiles, x=\"drinks\")\n",
    "graph.set_xticklabels(graph.get_xticklabels(), rotation=30)\n",
    "plt.show()"
   ]
  },
  {
   "cell_type": "code",
   "execution_count": 11,
   "metadata": {},
   "outputs": [
    {
     "data": {
      "image/png": "[encoded data removed]",
      "text/plain": [
       "<Figure size 360x360 with 1 Axes>"
      ]
     },
     "metadata": {
      "needs_background": "light"
     },
     "output_type": "display_data"
    }
   ],
   "source": [
    "plt.figure(figsize=(5, 5))\n",
    "graph = sns.countplot(data=profiles, x=\"drugs\")\n",
    "graph.set_xticklabels(graph.get_xticklabels(), rotation=30)\n",
    "plt.show()"
   ]
  },
  {
   "cell_type": "code",
   "execution_count": 12,
   "metadata": {},
   "outputs": [
    {
     "data": {
      "image/png": "[encoded data removed]",
      "text/plain": [
       "<Figure size 720x1080 with 1 Axes>"
      ]
     },
     "metadata": {
      "needs_background": "light"
     },
     "output_type": "display_data"
    }
   ],
   "source": [
    "plt.figure(figsize=(10, 15))\n",
    "graph = sns.countplot(data=profiles, y=\"education\")\n",
    "plt.show()"
   ]
  },
  {
   "cell_type": "code",
   "execution_count": 13,
   "metadata": {},
   "outputs": [
    {
     "data": {
      "image/png": "[encoded data removed]",
      "text/plain": [
       "<Figure size 720x720 with 1 Axes>"
      ]
     },
     "metadata": {
      "needs_background": "light"
     },
     "output_type": "display_data"
    }
   ],
   "source": [
    "plt.figure(figsize=(10, 10))\n",
    "graph = sns.histplot(profiles, x=\"height\")"
   ]
  },
  {
   "cell_type": "code",
   "execution_count": 14,
   "metadata": {},
   "outputs": [
    {
     "data": {
      "image/png": "[encoded data removed]",
      "text/plain": [
       "<Figure size 720x720 with 1 Axes>"
      ]
     },
     "metadata": {
      "needs_background": "light"
     },
     "output_type": "display_data"
    }
   ],
   "source": [
    "plt.figure(figsize=(10, 10))\n",
    "graph = sns.histplot(profiles, x=\"income\")"
   ]
  },
  {
   "cell_type": "code",
   "execution_count": 15,
   "metadata": {},
   "outputs": [
    {
     "data": {
      "image/png": "[encoded data removed]",
      "text/plain": [
       "<Figure size 720x720 with 1 Axes>"
      ]
     },
     "metadata": {
      "needs_background": "light"
     },
     "output_type": "display_data"
    }
   ],
   "source": [
    "plt.figure(figsize=(10, 10))\n",
    "graph = sns.countplot(data=profiles, y=\"job\")\n",
    "plt.show()"
   ]
  },
  {
   "cell_type": "code",
   "execution_count": null,
   "metadata": {},
   "outputs": [],
   "source": []
  },
  {
   "cell_type": "code",
   "execution_count": 16,
   "metadata": {},
   "outputs": [
    {
     "data": {
      "image/png": "[encoded data removed]",
      "text/plain": [
       "<Figure size 720x720 with 1 Axes>"
      ]
     },
     "metadata": {
      "needs_background": "light"
     },
     "output_type": "display_data"
    }
   ],
   "source": [
    "plt.figure(figsize=(10, 10))\n",
    "graph = sns.countplot(data=profiles, y=\"offspring\")\n",
    "plt.show()"
   ]
  },
  {
   "cell_type": "code",
   "execution_count": 17,
   "metadata": {},
   "outputs": [
    {
     "data": {
      "image/png": "[encoded data removed]",
      "text/plain": [
       "<Figure size 720x720 with 1 Axes>"
      ]
     },
     "metadata": {
      "needs_background": "light"
     },
     "output_type": "display_data"
    }
   ],
   "source": [
    "plt.figure(figsize=(10, 10))\n",
    "graph = sns.countplot(data=profiles, x=\"orientation\")\n",
    "plt.show()"
   ]
  },
  {
   "cell_type": "code",
   "execution_count": 18,
   "metadata": {},
   "outputs": [
    {
     "data": {
      "image/png": "[encoded data removed]",
      "text/plain": [
       "<Figure size 576x360 with 1 Axes>"
      ]
     },
     "metadata": {
      "needs_background": "light"
     },
     "output_type": "display_data"
    }
   ],
   "source": [
    "plt.figure(figsize=(8, 5))\n",
    "graph = sns.countplot(data=profiles, y=\"pets\")\n",
    "plt.show()"
   ]
  },
  {
   "cell_type": "code",
   "execution_count": 19,
   "metadata": {},
   "outputs": [
    {
     "data": {
      "image/png": "[encoded data removed]",
      "text/plain": [
       "<Figure size 360x360 with 1 Axes>"
      ]
     },
     "metadata": {
      "needs_background": "light"
     },
     "output_type": "display_data"
    }
   ],
   "source": [
    "plt.figure(figsize=(5, 5))\n",
    "graph = sns.countplot(data=profiles, x=\"sex\")\n",
    "plt.show()"
   ]
  },
  {
   "cell_type": "code",
   "execution_count": 20,
   "metadata": {},
   "outputs": [
    {
     "data": {
      "image/png": "[encoded data removed]",
      "text/plain": [
       "<Figure size 360x360 with 1 Axes>"
      ]
     },
     "metadata": {
      "needs_background": "light"
     },
     "output_type": "display_data"
    }
   ],
   "source": [
    "plt.figure(figsize=(5, 5))\n",
    "graph = sns.countplot(data=profiles, x=\"smokes\")\n",
    "plt.show()"
   ]
  },
  {
   "cell_type": "code",
   "execution_count": 21,
   "metadata": {},
   "outputs": [
    {
     "data": {
      "image/png": "[encoded data removed]",
      "text/plain": [
       "<Figure size 360x360 with 1 Axes>"
      ]
     },
     "metadata": {
      "needs_background": "light"
     },
     "output_type": "display_data"
    }
   ],
   "source": [
    "plt.figure(figsize=(5, 5))\n",
    "graph = sns.countplot(data=profiles, x=\"status\")\n",
    "graph.set_xticklabels(graph.get_xticklabels(), rotation=30)\n",
    "plt.show()"
   ]
  },
  {
   "cell_type": "markdown",
   "metadata": {},
   "source": [
    "There are a few columns that needs to be cleaned before analysing. These columns include ethnicity, location, religiion, sign and speaks.\n",
    "\n",
    "First, we perform cleaning on the sign column."
   ]
  },
  {
   "cell_type": "markdown",
   "metadata": {},
   "source": [
    "Below is the unique values of sign:"
   ]
  },
  {
   "cell_type": "code",
   "execution_count": 22,
   "metadata": {},
   "outputs": [
    {
     "data": {
      "text/plain": [
       "gemini and it&rsquo;s fun to think about         1782\n",
       "scorpio and it&rsquo;s fun to think about        1772\n",
       "leo and it&rsquo;s fun to think about            1692\n",
       "libra and it&rsquo;s fun to think about          1649\n",
       "taurus and it&rsquo;s fun to think about         1640\n",
       "cancer and it&rsquo;s fun to think about         1597\n",
       "pisces and it&rsquo;s fun to think about         1592\n",
       "sagittarius and it&rsquo;s fun to think about    1583\n",
       "virgo and it&rsquo;s fun to think about          1574\n",
       "aries and it&rsquo;s fun to think about          1573\n",
       "aquarius and it&rsquo;s fun to think about       1503\n",
       "virgo but it doesn&rsquo;t matter                1497\n",
       "leo but it doesn&rsquo;t matter                  1457\n",
       "cancer but it doesn&rsquo;t matter               1454\n",
       "gemini but it doesn&rsquo;t matter               1453\n",
       "taurus but it doesn&rsquo;t matter               1450\n",
       "aquarius but it doesn&rsquo;t matter             1408\n",
       "libra but it doesn&rsquo;t matter                1408\n",
       "capricorn and it&rsquo;s fun to think about      1376\n",
       "sagittarius but it doesn&rsquo;t matter          1375\n",
       "aries but it doesn&rsquo;t matter                1373\n",
       "capricorn but it doesn&rsquo;t matter            1319\n",
       "pisces but it doesn&rsquo;t matter               1300\n",
       "scorpio but it doesn&rsquo;t matter              1264\n",
       "leo                                              1159\n",
       "libra                                            1098\n",
       "cancer                                           1092\n",
       "virgo                                            1029\n",
       "scorpio                                          1020\n",
       "gemini                                           1013\n",
       "taurus                                           1001\n",
       "aries                                             996\n",
       "pisces                                            992\n",
       "aquarius                                          954\n",
       "sagittarius                                       937\n",
       "capricorn                                         833\n",
       "scorpio and it matters a lot                       78\n",
       "leo and it matters a lot                           66\n",
       "aquarius and it matters a lot                      63\n",
       "cancer and it matters a lot                        63\n",
       "pisces and it matters a lot                        62\n",
       "gemini and it matters a lot                        62\n",
       "libra and it matters a lot                         52\n",
       "taurus and it matters a lot                        49\n",
       "aries and it matters a lot                         47\n",
       "sagittarius and it matters a lot                   47\n",
       "capricorn and it matters a lot                     45\n",
       "virgo and it matters a lot                         41\n",
       "Name: sign, dtype: int64"
      ]
     },
     "execution_count": 22,
     "metadata": {},
     "output_type": "execute_result"
    }
   ],
   "source": [
    "profiles.sign.value_counts()"
   ]
  },
  {
   "cell_type": "markdown",
   "metadata": {},
   "source": [
    "As the first word of all the unique sign values is the actual sign, it is extracted and placed on a new column called \"sign_cleaned\"."
   ]
  },
  {
   "cell_type": "code",
   "execution_count": 40,
   "metadata": {},
   "outputs": [
    {
     "data": {
      "text/plain": [
       "leo            4374\n",
       "gemini         4310\n",
       "libra          4207\n",
       "cancer         4206\n",
       "virgo          4141\n",
       "taurus         4140\n",
       "scorpio        4134\n",
       "aries          3989\n",
       "pisces         3946\n",
       "sagittarius    3942\n",
       "aquarius       3928\n",
       "capricorn      3573\n",
       "Name: sign_cleaned, dtype: int64"
      ]
     },
     "execution_count": 40,
     "metadata": {},
     "output_type": "execute_result"
    }
   ],
   "source": [
    "profiles['sign_cleaned'] = profiles.sign.str.split().str.get(0)\n",
    "profiles.sign_cleaned.value_counts()"
   ]
  },
  {
   "cell_type": "code",
   "execution_count": 24,
   "metadata": {},
   "outputs": [
    {
     "data": {
      "image/png": "[encoded data removed]",
      "text/plain": [
       "<Figure size 720x360 with 1 Axes>"
      ]
     },
     "metadata": {
      "needs_background": "light"
     },
     "output_type": "display_data"
    }
   ],
   "source": [
    "plt.figure(figsize=(10, 5))\n",
    "graph = sns.countplot(data=profiles, y=\"sign_cleaned\")\n",
    "plt.show()"
   ]
  },
  {
   "cell_type": "markdown",
   "metadata": {},
   "source": [
    "The values of religion column have a similar situation."
   ]
  },
  {
   "cell_type": "code",
   "execution_count": 25,
   "metadata": {},
   "outputs": [
    {
     "data": {
      "text/plain": [
       "agnosticism                                   2724\n",
       "other                                         2691\n",
       "agnosticism but not too serious about it      2636\n",
       "agnosticism and laughing about it             2496\n",
       "catholicism but not too serious about it      2318\n",
       "atheism                                       2175\n",
       "other and laughing about it                   2119\n",
       "atheism and laughing about it                 2074\n",
       "christianity                                  1957\n",
       "christianity but not too serious about it     1952\n",
       "other but not too serious about it            1554\n",
       "judaism but not too serious about it          1517\n",
       "atheism but not too serious about it          1318\n",
       "catholicism                                   1064\n",
       "christianity and somewhat serious about it     927\n",
       "atheism and somewhat serious about it          848\n",
       "other and somewhat serious about it            846\n",
       "catholicism and laughing about it              726\n",
       "judaism and laughing about it                  681\n",
       "buddhism but not too serious about it          650\n",
       "agnosticism and somewhat serious about it      642\n",
       "judaism                                        612\n",
       "christianity and very serious about it         578\n",
       "atheism and very serious about it              570\n",
       "catholicism and somewhat serious about it      548\n",
       "other and very serious about it                533\n",
       "buddhism and laughing about it                 466\n",
       "buddhism                                       403\n",
       "christianity and laughing about it             373\n",
       "buddhism and somewhat serious about it         359\n",
       "agnosticism and very serious about it          314\n",
       "judaism and somewhat serious about it          266\n",
       "hinduism but not too serious about it          227\n",
       "hinduism                                       107\n",
       "catholicism and very serious about it          102\n",
       "buddhism and very serious about it              70\n",
       "hinduism and somewhat serious about it          58\n",
       "islam                                           48\n",
       "hinduism and laughing about it                  44\n",
       "islam but not too serious about it              40\n",
       "islam and somewhat serious about it             22\n",
       "judaism and very serious about it               22\n",
       "islam and laughing about it                     16\n",
       "hinduism and very serious about it              14\n",
       "islam and very serious about it                 13\n",
       "Name: religion, dtype: int64"
      ]
     },
     "execution_count": 25,
     "metadata": {},
     "output_type": "execute_result"
    }
   ],
   "source": [
    "profiles.religion.value_counts()"
   ]
  },
  {
   "cell_type": "markdown",
   "metadata": {},
   "source": [
    "As the first word of all the unique religion values is the actual religion, it is extracted and placed on a new column called \"religion_cleaned\"."
   ]
  },
  {
   "cell_type": "code",
   "execution_count": 41,
   "metadata": {},
   "outputs": [
    {
     "data": {
      "text/plain": [
       "agnosticism     8812\n",
       "other           7743\n",
       "atheism         6985\n",
       "christianity    5787\n",
       "catholicism     4758\n",
       "judaism         3098\n",
       "buddhism        1948\n",
       "hinduism         450\n",
       "islam            139\n",
       "Name: religion_cleaned, dtype: int64"
      ]
     },
     "execution_count": 41,
     "metadata": {},
     "output_type": "execute_result"
    }
   ],
   "source": [
    "profiles['religion_cleaned'] = profiles.religion.str.split().str.get(0)\n",
    "profiles.religion_cleaned.value_counts()"
   ]
  },
  {
   "cell_type": "code",
   "execution_count": 27,
   "metadata": {},
   "outputs": [
    {
     "data": {
      "image/png": "[encoded data removed]",
      "text/plain": [
       "<Figure size 720x360 with 1 Axes>"
      ]
     },
     "metadata": {
      "needs_background": "light"
     },
     "output_type": "display_data"
    }
   ],
   "source": [
    "plt.figure(figsize=(10, 5))\n",
    "graph = sns.countplot(data=profiles, y=\"religion_cleaned\")\n",
    "plt.show()"
   ]
  },
  {
   "cell_type": "markdown",
   "metadata": {},
   "source": [
    "Next, we perform cleaning on the ethnicity column. The possible values and their respective counts are the following:"
   ]
  },
  {
   "cell_type": "code",
   "execution_count": 28,
   "metadata": {},
   "outputs": [
    {
     "name": "stdout",
     "output_type": "stream",
     "text": [
      "white                                                                                                      32831\n",
      "asian                                                                                                       6134\n",
      "hispanic / latin                                                                                            2823\n",
      "black                                                                                                       2008\n",
      "other                                                                                                       1706\n",
      "hispanic / latin, white                                                                                     1301\n",
      "indian                                                                                                      1077\n",
      "asian, white                                                                                                 811\n",
      "white, other                                                                                                 641\n",
      "pacific islander                                                                                             432\n",
      "asian, pacific islander                                                                                      395\n",
      "native american, white                                                                                       338\n",
      "middle eastern                                                                                               329\n",
      "middle eastern, white                                                                                        300\n",
      "black, white                                                                                                 298\n",
      "pacific islander, white                                                                                      156\n",
      "hispanic / latin, other                                                                                      138\n",
      "black, other                                                                                                 133\n",
      "black, hispanic / latin                                                                                      119\n",
      "hispanic / latin, white, other                                                                               117\n",
      "black, native american, white                                                                                110\n",
      "black, native american                                                                                       100\n",
      "asian, other                                                                                                  95\n",
      "asian, hispanic / latin                                                                                       88\n",
      "native american, hispanic / latin, white                                                                      87\n",
      "native american, hispanic / latin                                                                             73\n",
      "asian, white, other                                                                                           69\n",
      "native american                                                                                               67\n",
      "asian, middle eastern, black, native american, indian, pacific islander, hispanic / latin, white, other       66\n",
      "asian, black                                                                                                  59\n",
      "pacific islander, hispanic / latin                                                                            57\n",
      "asian, pacific islander, white                                                                                55\n",
      "native american, white, other                                                                                 54\n",
      "asian, indian                                                                                                 52\n",
      "black, white, other                                                                                           49\n",
      "indian, white                                                                                                 46\n",
      "asian, hispanic / latin, white                                                                                42\n",
      "middle eastern, white, other                                                                                  40\n",
      "middle eastern, hispanic / latin                                                                              39\n",
      "asian, pacific islander, other                                                                                38\n",
      "black, hispanic / latin, white                                                                                36\n",
      "native american, hispanic / latin, white, other                                                               33\n",
      "pacific islander, hispanic / latin, white                                                                     30\n",
      "indian, other                                                                                                 30\n",
      "black, native american, white, other                                                                          29\n",
      "black, native american, other                                                                                 27\n",
      "black, native american, hispanic / latin, white                                                               26\n",
      "middle eastern, other                                                                                         23\n",
      "black, native american, hispanic / latin                                                                      19\n",
      "pacific islander, white, other                                                                                18\n",
      "asian, native american, white                                                                                 18\n",
      "black, indian                                                                                                 17\n",
      "native american, other                                                                                        16\n",
      "black, pacific islander                                                                                       15\n",
      "asian, black, white                                                                                           15\n",
      "pacific islander, other                                                                                       14\n",
      "indian, white, other                                                                                          14\n",
      "asian, pacific islander, hispanic / latin                                                                     13\n",
      "black, hispanic / latin, other                                                                                13\n",
      "native american, hispanic / latin, other                                                                      13\n",
      "indian, pacific islander                                                                                      12\n",
      "middle eastern, hispanic / latin, white                                                                       12\n",
      "asian, middle eastern                                                                                         12\n",
      "middle eastern, indian                                                                                        11\n",
      "asian, pacific islander, hispanic / latin, white                                                              11\n",
      "asian, pacific islander, white, other                                                                         10\n",
      "black, native american, hispanic / latin, white, other                                                        10\n",
      "asian, middle eastern, black, native american, indian, pacific islander, hispanic / latin, white               9\n",
      "asian, black, other                                                                                            9\n",
      "asian, middle eastern, white                                                                                   9\n",
      "asian, hispanic / latin, other                                                                                 9\n",
      "asian, black, native american                                                                                  9\n",
      "asian, hispanic / latin, white, other                                                                          9\n",
      "asian, black, native american, white                                                                           8\n",
      "middle eastern, native american, white                                                                         8\n",
      "indian, hispanic / latin                                                                                       8\n",
      "asian, native american, hispanic / latin, white                                                                7\n",
      "native american, pacific islander, white                                                                       7\n",
      "asian, middle eastern, white, other                                                                            6\n",
      "asian, indian, pacific islander                                                                                6\n",
      "middle eastern, black                                                                                          6\n",
      "black, indian, white                                                                                           6\n",
      "asian, black, pacific islander                                                                                 6\n",
      "asian, pacific islander, hispanic / latin, white, other                                                        5\n",
      "asian, native american, hispanic / latin                                                                       5\n",
      "pacific islander, hispanic / latin, other                                                                      5\n",
      "asian, middle eastern, indian                                                                                  5\n",
      "black, hispanic / latin, white, other                                                                          5\n",
      "native american, pacific islander, hispanic / latin, white                                                     5\n",
      "black, native american, hispanic / latin, other                                                                5\n",
      "asian, indian, other                                                                                           5\n",
      "asian, indian, white                                                                                           5\n",
      "asian, native american, white, other                                                                           5\n",
      "native american, pacific islander, hispanic / latin                                                            5\n",
      "black, pacific islander, hispanic / latin                                                                      5\n",
      "pacific islander, hispanic / latin, white, other                                                               5\n",
      "black, indian, white, other                                                                                    4\n",
      "indian, hispanic / latin, other                                                                                4\n",
      "asian, native american, hispanic / latin, white, other                                                         4\n",
      "middle eastern, indian, other                                                                                  4\n",
      "asian, native american, pacific islander, hispanic / latin, white                                              4\n",
      "middle eastern, hispanic / latin, other                                                                        4\n",
      "black, pacific islander, white                                                                                 4\n",
      "black, pacific islander, other                                                                                 4\n",
      "asian, black, pacific islander, hispanic / latin                                                               4\n",
      "asian, middle eastern, indian, other                                                                           3\n",
      "middle eastern, native american, hispanic / latin                                                              3\n",
      "asian, indian, pacific islander, other                                                                         3\n",
      "black, indian, other                                                                                           3\n",
      "black, native american, indian, other                                                                          3\n",
      "asian, black, native american, pacific islander, white                                                         3\n",
      "native american, pacific islander, hispanic / latin, white, other                                              3\n",
      "middle eastern, pacific islander, other                                                                        3\n",
      "black, indian, hispanic / latin                                                                                3\n",
      "asian, native american                                                                                         3\n",
      "middle eastern, black, native american, white                                                                  2\n",
      "black, indian, hispanic / latin, white                                                                         2\n",
      "asian, native american, pacific islander, white, other                                                         2\n",
      "native american, indian                                                                                        2\n",
      "asian, native american, other                                                                                  2\n",
      "asian, middle eastern, black                                                                                   2\n",
      "asian, middle eastern, black, indian, pacific islander, hispanic / latin, white                                2\n",
      "middle eastern, native american, hispanic / latin, white, other                                                2\n",
      "black, native american, pacific islander, white                                                                2\n",
      "indian, hispanic / latin, white, other                                                                         2\n",
      "middle eastern, black, native american, indian, white, other                                                   2\n",
      "asian, black, pacific islander, white                                                                          2\n",
      "asian, black, native american, pacific islander                                                                2\n",
      "asian, indian, hispanic / latin                                                                                2\n",
      "asian, black, native american, hispanic / latin                                                                2\n",
      "asian, black, native american, white, other                                                                    2\n",
      "asian, pacific islander, hispanic / latin, other                                                               2\n",
      "asian, middle eastern, black, native american, pacific islander, hispanic / latin, white, other                2\n",
      "black, native american, pacific islander, hispanic / latin, white                                              2\n",
      "asian, black, hispanic / latin, white                                                                          2\n",
      "asian, black, native american, hispanic / latin, white                                                         2\n",
      "asian, black, hispanic / latin                                                                                 2\n",
      "native american, pacific islander, white, other                                                                2\n",
      "black, native american, pacific islander, hispanic / latin, white, other                                       2\n",
      "asian, native american, pacific islander                                                                       2\n",
      "middle eastern, native american, hispanic / latin, white                                                       2\n",
      "asian, native american, pacific islander, white                                                                2\n",
      "middle eastern, indian, white, other                                                                           2\n",
      "asian, indian, white, other                                                                                    2\n",
      "asian, middle eastern, native american, indian, pacific islander, hispanic / latin, white                      2\n",
      "asian, black, hispanic / latin, other                                                                          2\n",
      "middle eastern, hispanic / latin, white, other                                                                 2\n",
      "asian, middle eastern, hispanic / latin, white                                                                 2\n",
      "asian, middle eastern, black, pacific islander, hispanic / latin, white                                        2\n",
      "black, native american, pacific islander                                                                       2\n",
      "asian, black, native american, other                                                                           2\n",
      "middle eastern, black, white                                                                                   2\n",
      "native american, pacific islander                                                                              2\n",
      "indian, hispanic / latin, white                                                                                2\n",
      "asian, middle eastern, black, native american, indian, pacific islander, hispanic / latin, other               2\n",
      "black, native american, indian, white, other                                                                   2\n",
      "asian, black, pacific islander, hispanic / latin, white                                                        1\n",
      "asian, middle eastern, black, native american, indian, pacific islander, hispanic / latin                      1\n",
      "black, native american, indian, hispanic / latin, white, other                                                 1\n",
      "asian, black, native american, indian, hispanic / latin, white, other                                          1\n",
      "asian, indian, hispanic / latin, white                                                                         1\n",
      "black, native american, indian, pacific islander                                                               1\n",
      "asian, black, pacific islander, other                                                                          1\n",
      "indian, pacific islander, hispanic / latin, white                                                              1\n",
      "middle eastern, pacific islander                                                                               1\n",
      "native american, indian, white                                                                                 1\n",
      "middle eastern, black, other                                                                                   1\n",
      "asian, middle eastern, hispanic / latin                                                                        1\n",
      "asian, black, white, other                                                                                     1\n",
      "asian, native american, indian, pacific islander, hispanic / latin, white                                      1\n",
      "middle eastern, black, pacific islander, white                                                                 1\n",
      "asian, black, indian                                                                                           1\n",
      "asian, middle eastern, indian, hispanic / latin                                                                1\n",
      "middle eastern, black, native american, indian, pacific islander, hispanic / latin, white                      1\n",
      "asian, black, native american, pacific islander, other                                                         1\n",
      "middle eastern, black, native american, white, other                                                           1\n",
      "black, native american, indian, pacific islander, hispanic / latin                                             1\n",
      "middle eastern, native american, white, other                                                                  1\n",
      "asian, black, indian, hispanic / latin, other                                                                  1\n",
      "asian, middle eastern, native american, hispanic / latin, white                                                1\n",
      "black, native american, indian, white                                                                          1\n",
      "middle eastern, black, native american, indian, pacific islander, hispanic / latin, white, other               1\n",
      "asian, native american, indian, pacific islander, hispanic / latin, white, other                               1\n",
      "asian, black, native american, indian, pacific islander, hispanic / latin                                      1\n",
      "asian, black, native american, pacific islander, white, other                                                  1\n",
      "asian, middle eastern, native american, pacific islander, white, other                                         1\n",
      "asian, native american, pacific islander, hispanic / latin, white, other                                       1\n",
      "middle eastern, indian, white                                                                                  1\n",
      "black, native american, pacific islander, hispanic / latin                                                     1\n",
      "middle eastern, native american                                                                                1\n",
      "asian, middle eastern, native american, pacific islander, other                                                1\n",
      "black, native american, pacific islander, other                                                                1\n",
      "middle eastern, black, indian, pacific islander, hispanic / latin, white                                       1\n",
      "asian, native american, hispanic / latin, other                                                                1\n",
      "asian, black, pacific islander, white, other                                                                   1\n",
      "asian, indian, hispanic / latin, other                                                                         1\n",
      "asian, middle eastern, black, native american, indian, pacific islander, white                                 1\n",
      "asian, middle eastern, black, native american, hispanic / latin, white                                         1\n",
      "asian, black, hispanic / latin, white, other                                                                   1\n",
      "black, native american, indian                                                                                 1\n",
      "asian, middle eastern, black, pacific islander, hispanic / latin                                               1\n",
      "asian, middle eastern, black, pacific islander                                                                 1\n",
      "asian, black, native american, indian                                                                          1\n",
      "asian, indian, pacific islander, hispanic / latin, white, other                                                1\n",
      "middle eastern, black, native american, indian                                                                 1\n",
      "asian, middle eastern, native american, pacific islander, hispanic / latin, white, other                       1\n",
      "asian, middle eastern, hispanic / latin, white, other                                                          1\n",
      "middle eastern, black, hispanic / latin                                                                        1\n",
      "asian, black, native american, indian, pacific islander, white                                                 1\n",
      "asian, middle eastern, indian, hispanic / latin, white, other                                                  1\n",
      "black, native american, pacific islander, white, other                                                         1\n",
      "asian, middle eastern, black, white, other                                                                     1\n",
      "asian, middle eastern, other                                                                                   1\n",
      "middle eastern, pacific islander, hispanic / latin                                                             1\n",
      "middle eastern, black, native american, indian, hispanic / latin, white                                        1\n",
      "middle eastern, black, native american, hispanic / latin, white                                                1\n",
      "native american, indian, pacific islander, hispanic / latin                                                    1\n",
      "Name: ethnicity, dtype: int64\n"
     ]
    }
   ],
   "source": [
    "with pd.option_context(\"display.max_rows\", 1000):\n",
    "    print(profiles.ethnicity.value_counts())"
   ]
  },
  {
   "cell_type": "markdown",
   "metadata": {},
   "source": [
    "There are a portion of users who have mixed ethnicity.\n",
    "\n",
    "To clean the data, first we drop all rows without ethnicity, and loop through each row in the dataframe. We extract independent ethnicity from the overall string, and flag the new corresponding ethnicity column in case there is a match."
   ]
  },
  {
   "cell_type": "code",
   "execution_count": 42,
   "metadata": {
    "scrolled": true
   },
   "outputs": [],
   "source": [
    "profiles = profiles.dropna(subset=[\"ethnicity\"])\n",
    "\n",
    "ethnicity_value = ['asian', 'white', 'black', 'other', 'hispanic / latin', 'pacific islander', 'native american', 'middle eastern', 'indian']\n",
    "\n",
    "for ethnicity in ethnicity_value:\n",
    "    profiles[ethnicity_value] = 0\n",
    "\n",
    "for index, row in profiles.iterrows():\n",
    "    list_of_ethnicity = list(row[\"ethnicity\"].split(\", \"))\n",
    "    for ethnicity in list_of_ethnicity:\n",
    "        profiles.at[index, ethnicity] = 1"
   ]
  },
  {
   "cell_type": "markdown",
   "metadata": {},
   "source": [
    "We can check number of users who belongs to a certain ethnicity:"
   ]
  },
  {
   "cell_type": "code",
   "execution_count": 51,
   "metadata": {},
   "outputs": [
    {
     "name": "stdout",
     "output_type": "stream",
     "text": [
      "0    46061\n",
      "1     8205\n",
      "Name: asian, dtype: int64\n",
      "1    37882\n",
      "0    16384\n",
      "Name: white, dtype: int64\n",
      "0    50938\n",
      "1     3328\n",
      "Name: black, dtype: int64\n",
      "0    50699\n",
      "1     3567\n",
      "Name: other, dtype: int64\n",
      "0    48909\n",
      "1     5357\n",
      "Name: hispanic / latin, dtype: int64\n",
      "0    52793\n",
      "1     1473\n",
      "Name: pacific islander, dtype: int64\n",
      "0    53001\n",
      "1     1265\n",
      "Name: native american, dtype: int64\n",
      "0    53316\n",
      "1      950\n",
      "Name: middle eastern, dtype: int64\n"
     ]
    },
    {
     "data": {
      "text/plain": [
       "0    52817\n",
       "1     1449\n",
       "Name: indian, dtype: int64"
      ]
     },
     "execution_count": 51,
     "metadata": {},
     "output_type": "execute_result"
    }
   ],
   "source": [
    "print(profiles.asian.value_counts())\n",
    "print(profiles.white.value_counts())\n",
    "print(profiles.black.value_counts())\n",
    "print(profiles.other.value_counts())\n",
    "print(profiles[\"hispanic / latin\"].value_counts())\n",
    "print(profiles[\"pacific islander\"].value_counts())\n",
    "print(profiles[\"native american\"].value_counts())\n",
    "print(profiles[\"middle eastern\"].value_counts())\n",
    "(profiles.indian.value_counts())"
   ]
  },
  {
   "cell_type": "markdown",
   "metadata": {},
   "source": [
    "## Main Investigation 1 - Can we predict the status of a user?"
   ]
  },
  {
   "cell_type": "markdown",
   "metadata": {},
   "source": [
    "We would like to check if we can predict the status of a user based on their appearance, such as body type, height, sex and ethnicity.\n",
    "\n",
    "First, we import the classification models, data_splitting tool, normalization tool and accuracy measuring tools."
   ]
  },
  {
   "cell_type": "markdown",
   "metadata": {},
   "source": [
    "Next, we create a new dataframe by extracting target features from the original profiles dataframe, and drop all rows with NaN values."
   ]
  },
  {
   "cell_type": "code",
   "execution_count": 52,
   "metadata": {},
   "outputs": [
    {
     "name": "stdout",
     "output_type": "stream",
     "text": [
      "            body_type  height sex  asian  white  black  other  \\\n",
      "0      a little extra    75.0   m      1      1      0      0   \n",
      "1             average    70.0   m      0      1      0      0   \n",
      "3                thin    71.0   m      0      1      0      0   \n",
      "4            athletic    66.0   m      1      0      1      1   \n",
      "5             average    67.0   m      0      1      0      0   \n",
      "...               ...     ...  ..    ...    ...    ...    ...   \n",
      "59938         average    73.0   m      0      0      0      0   \n",
      "59942             fit    72.0   m      0      1      0      1   \n",
      "59943         average    71.0   m      1      0      0      0   \n",
      "59944        athletic    73.0   m      1      0      1      0   \n",
      "59945         average    68.0   m      0      1      0      0   \n",
      "\n",
      "       hispanic / latin  pacific islander  native american  middle eastern  \\\n",
      "0                     0                 0                0               0   \n",
      "1                     0                 0                0               0   \n",
      "3                     0                 0                0               0   \n",
      "4                     0                 0                0               0   \n",
      "5                     0                 0                0               0   \n",
      "...                 ...               ...              ...             ...   \n",
      "59938                 1                 0                1               0   \n",
      "59942                 0                 0                0               0   \n",
      "59943                 0                 0                0               0   \n",
      "59944                 0                 0                0               0   \n",
      "59945                 0                 0                0               0   \n",
      "\n",
      "       indian  status  \n",
      "0           0  single  \n",
      "1           0  single  \n",
      "3           0  single  \n",
      "4           0  single  \n",
      "5           0  single  \n",
      "...       ...     ...  \n",
      "59938       0  single  \n",
      "59942       0  single  \n",
      "59943       0  single  \n",
      "59944       0  single  \n",
      "59945       0  single  \n",
      "\n",
      "[50088 rows x 13 columns]\n"
     ]
    }
   ],
   "source": [
    "df_one = profiles[[\"body_type\", \"height\", \"sex\", \"asian\", \"white\", \"black\", \"other\", \"hispanic / latin\", \"pacific islander\", \"native american\", \"middle eastern\", \"indian\", \"status\"]].dropna()\n",
    "print(df_one)"
   ]
  },
  {
   "cell_type": "markdown",
   "metadata": {},
   "source": [
    "Then, we need to convert categorical values into numbers.\n",
    "\n",
    "For the body_type and sex column, we shall label these nominal categorical values using One-Hot Encoding."
   ]
  },
  {
   "cell_type": "code",
   "execution_count": 72,
   "metadata": {},
   "outputs": [],
   "source": [
    "dummy_one = pd.get_dummies(df_one[[\"body_type\", \"sex\"]])\n",
    "\n",
    "x_one = pd.concat([dummy_one, df_one[[\"height\", \"asian\", \"white\", \"black\", \"other\", \"hispanic / latin\", \"pacific islander\", \"native american\", \"middle eastern\", \"indian\"]]], axis=1, sort=False)\n",
    "y_one = df_one[\"status\"]"
   ]
  },
  {
   "cell_type": "code",
   "execution_count": 63,
   "metadata": {},
   "outputs": [
    {
     "name": "stdout",
     "output_type": "stream",
     "text": [
      "       body_type_a little extra  body_type_athletic  body_type_average  \\\n",
      "0                             1                   0                  0   \n",
      "1                             0                   0                  1   \n",
      "3                             0                   0                  0   \n",
      "4                             0                   1                  0   \n",
      "5                             0                   0                  1   \n",
      "...                         ...                 ...                ...   \n",
      "59938                         0                   0                  1   \n",
      "59942                         0                   0                  0   \n",
      "59943                         0                   0                  1   \n",
      "59944                         0                   1                  0   \n",
      "59945                         0                   0                  1   \n",
      "\n",
      "       body_type_curvy  body_type_fit  body_type_full figured  \\\n",
      "0                    0              0                       0   \n",
      "1                    0              0                       0   \n",
      "3                    0              0                       0   \n",
      "4                    0              0                       0   \n",
      "5                    0              0                       0   \n",
      "...                ...            ...                     ...   \n",
      "59938                0              0                       0   \n",
      "59942                0              1                       0   \n",
      "59943                0              0                       0   \n",
      "59944                0              0                       0   \n",
      "59945                0              0                       0   \n",
      "\n",
      "       body_type_jacked  body_type_overweight  body_type_rather not say  \\\n",
      "0                     0                     0                         0   \n",
      "1                     0                     0                         0   \n",
      "3                     0                     0                         0   \n",
      "4                     0                     0                         0   \n",
      "5                     0                     0                         0   \n",
      "...                 ...                   ...                       ...   \n",
      "59938                 0                     0                         0   \n",
      "59942                 0                     0                         0   \n",
      "59943                 0                     0                         0   \n",
      "59944                 0                     0                         0   \n",
      "59945                 0                     0                         0   \n",
      "\n",
      "       body_type_skinny  ...  height  asian  white  black  other  \\\n",
      "0                     0  ...    75.0      1      1      0      0   \n",
      "1                     0  ...    70.0      0      1      0      0   \n",
      "3                     0  ...    71.0      0      1      0      0   \n",
      "4                     0  ...    66.0      1      0      1      1   \n",
      "5                     0  ...    67.0      0      1      0      0   \n",
      "...                 ...  ...     ...    ...    ...    ...    ...   \n",
      "59938                 0  ...    73.0      0      0      0      0   \n",
      "59942                 0  ...    72.0      0      1      0      1   \n",
      "59943                 0  ...    71.0      1      0      0      0   \n",
      "59944                 0  ...    73.0      1      0      1      0   \n",
      "59945                 0  ...    68.0      0      1      0      0   \n",
      "\n",
      "       hispanic / latin  pacific islander  native american  middle eastern  \\\n",
      "0                     0                 0                0               0   \n",
      "1                     0                 0                0               0   \n",
      "3                     0                 0                0               0   \n",
      "4                     0                 0                0               0   \n",
      "5                     0                 0                0               0   \n",
      "...                 ...               ...              ...             ...   \n",
      "59938                 1                 0                1               0   \n",
      "59942                 0                 0                0               0   \n",
      "59943                 0                 0                0               0   \n",
      "59944                 0                 0                0               0   \n",
      "59945                 0                 0                0               0   \n",
      "\n",
      "       indian  \n",
      "0           0  \n",
      "1           0  \n",
      "3           0  \n",
      "4           0  \n",
      "5           0  \n",
      "...       ...  \n",
      "59938       0  \n",
      "59942       0  \n",
      "59943       0  \n",
      "59944       0  \n",
      "59945       0  \n",
      "\n",
      "[50088 rows x 24 columns]\n",
      "0        single\n",
      "1        single\n",
      "3        single\n",
      "4        single\n",
      "5        single\n",
      "          ...  \n",
      "59938    single\n",
      "59942    single\n",
      "59943    single\n",
      "59944    single\n",
      "59945    single\n",
      "Name: status, Length: 50088, dtype: object\n"
     ]
    }
   ],
   "source": [
    "print(x_one)\n",
    "print(y_one)"
   ]
  },
  {
   "cell_type": "markdown",
   "metadata": {},
   "source": [
    "Next, we split the overall data into train & test data"
   ]
  },
  {
   "cell_type": "code",
   "execution_count": 65,
   "metadata": {},
   "outputs": [],
   "source": [
    "from sklearn.model_selection import train_test_split\n",
    "\n",
    "x_train_one, x_test_one, y_train_one, y_test_one = train_test_split(x_one, y_one, test_size=0.25, random_state=10)"
   ]
  },
  {
   "cell_type": "markdown",
   "metadata": {},
   "source": [
    "We shall fit the data into a classification model, and check if we can predict the status of a person based on their appearance. We will use K-Nearest Neighbor model in this case."
   ]
  },
  {
   "cell_type": "code",
   "execution_count": 68,
   "metadata": {},
   "outputs": [
    {
     "data": {
      "text/plain": [
       "KNeighborsClassifier()"
      ]
     },
     "execution_count": 68,
     "metadata": {},
     "output_type": "execute_result"
    }
   ],
   "source": [
    "from sklearn.neighbors import KNeighborsClassifier\n",
    "\n",
    "k_model_one = KNeighborsClassifier()\n",
    "k_model_one.fit(x_train_one, y_train_one)"
   ]
  },
  {
   "cell_type": "markdown",
   "metadata": {},
   "source": [
    "We shall test our model's accuracy with our test data. We print out the classification report and the confusion matrix for analysis."
   ]
  },
  {
   "cell_type": "code",
   "execution_count": 85,
   "metadata": {},
   "outputs": [
    {
     "name": "stdout",
     "output_type": "stream",
     "text": [
      "                precision    recall  f1-score   support\n",
      "\n",
      "     available       0.20      0.00      0.01       375\n",
      "       married       0.00      0.00      0.00        62\n",
      "seeing someone       0.00      0.00      0.00       390\n",
      "        single       0.93      1.00      0.97     11695\n",
      "\n",
      "      accuracy                           0.93     12522\n",
      "     macro avg       0.28      0.25      0.24     12522\n",
      "  weighted avg       0.88      0.93      0.90     12522\n",
      "\n",
      "[[    1     0     0   374     0]\n",
      " [    0     0     0    62     0]\n",
      " [    1     0     0   389     0]\n",
      " [    3     1     1 11690     0]\n",
      " [    0     0     0     0     0]]\n",
      "['available' 'married' 'seeing someone' 'single' 'unknown']\n"
     ]
    }
   ],
   "source": [
    "from sklearn.metrics import classification_report, confusion_matrix\n",
    "\n",
    "predictions_one = k_model_one.predict(x_test_one)\n",
    "\n",
    "print(classification_report(y_test_one, predictions_one))\n",
    "print(confusion_matrix(y_test_one, predictions_one, labels=k_model_one.classes_))\n",
    "print(k_model_one.classes_)"
   ]
  },
  {
   "cell_type": "markdown",
   "metadata": {},
   "source": [
    "Based on the results above, it seems the model is not accurate as they just mostly predict the user as single. Even though the f1-score is 0.97 for predicting single users, the f1-score of other labels are 0 or close. This may be due to the fact the labels are heavily imbalanced, as most of the users using the OkCupid application is single."
   ]
  },
  {
   "cell_type": "markdown",
   "metadata": {},
   "source": [
    "## Main Investigation 2 - Can we predict the religion of a user?"
   ]
  },
  {
   "cell_type": "markdown",
   "metadata": {},
   "source": [
    "Secondly, we will try to predict religion using ethnicity and habits of a user, such as their diet, whether they smoke, drink and take drugs, as these features may have connections with their religion."
   ]
  },
  {
   "cell_type": "markdown",
   "metadata": {},
   "source": [
    "First, we extract the features into a new dataframe and drop all rows with NaN values."
   ]
  },
  {
   "cell_type": "code",
   "execution_count": 71,
   "metadata": {},
   "outputs": [
    {
     "name": "stdout",
     "output_type": "stream",
     "text": [
      "      religion_cleaned                 diet      drinks      drugs  \\\n",
      "0          agnosticism    strictly anything    socially      never   \n",
      "1          agnosticism         mostly other       often  sometimes   \n",
      "7         christianity      mostly anything    socially      never   \n",
      "9              atheism      mostly anything  not at all      never   \n",
      "11        christianity      mostly anything    socially      never   \n",
      "...                ...                  ...         ...        ...   \n",
      "59931      agnosticism  strictly vegetarian      rarely      never   \n",
      "59936          atheism      mostly anything    socially      never   \n",
      "59942      agnosticism      mostly anything       often  sometimes   \n",
      "59943     christianity      mostly anything  not at all      never   \n",
      "59944      agnosticism      mostly anything    socially      often   \n",
      "\n",
      "               smokes  asian  white  black  other  hispanic / latin  \\\n",
      "0           sometimes      1      1      0      0                 0   \n",
      "1                  no      0      1      0      0                 0   \n",
      "7                  no      0      1      0      0                 0   \n",
      "9                  no      0      1      0      0                 0   \n",
      "11                 no      0      1      0      0                 0   \n",
      "...               ...    ...    ...    ...    ...               ...   \n",
      "59931              no      0      0      0      0                 0   \n",
      "59936              no      1      0      0      0                 0   \n",
      "59942              no      0      1      0      1                 0   \n",
      "59943              no      1      0      0      0                 0   \n",
      "59944  trying to quit      1      0      1      0                 0   \n",
      "\n",
      "       pacific islander  native american  middle eastern  indian  \n",
      "0                     0                0               0       0  \n",
      "1                     0                0               0       0  \n",
      "7                     0                0               0       0  \n",
      "9                     0                0               0       0  \n",
      "11                    0                0               0       0  \n",
      "...                 ...              ...             ...     ...  \n",
      "59931                 0                0               0       1  \n",
      "59936                 0                0               0       0  \n",
      "59942                 0                0               0       0  \n",
      "59943                 0                0               0       0  \n",
      "59944                 0                0               0       0  \n",
      "\n",
      "[18436 rows x 14 columns]\n"
     ]
    }
   ],
   "source": [
    "df_two = profiles[[\"religion_cleaned\", \"diet\", \"drinks\", \"drugs\", \"smokes\", \"asian\", \"white\", \"black\", \"other\", \"hispanic / latin\", \"pacific islander\", \"native american\", \"middle eastern\", \"indian\"]].dropna()\n",
    "print(df_two)"
   ]
  },
  {
   "cell_type": "markdown",
   "metadata": {},
   "source": [
    "Then, because most of the features are nominal categorical values, we need to label the values using One-Hot-Encoding."
   ]
  },
  {
   "cell_type": "code",
   "execution_count": 74,
   "metadata": {},
   "outputs": [
    {
     "data": {
      "text/plain": [
       "'\\nfrom sklearn.preprocessing import StandardScaler\\n\\nstd = StandardScaler()\\n\\ndummy_height = std.fit_transform(df_one[\"height\"])\\n\\nprint(dummy_height)\\n'"
      ]
     },
     "execution_count": 74,
     "metadata": {},
     "output_type": "execute_result"
    }
   ],
   "source": [
    "dummy_two = pd.get_dummies(df_two[[\"diet\", \"drinks\", \"drugs\", \"smokes\"]])\n",
    "\n",
    "x_two = pd.concat([dummy_two, df_two[[\"asian\", \"white\", \"black\", \"other\", \"hispanic / latin\", \"pacific islander\", \"native american\", \"middle eastern\", \"indian\"]]], axis=1, sort=False)\n",
    "y_two = df_two[\"religion_cleaned\"]\n",
    "\n",
    "'''\n",
    "from sklearn.preprocessing import StandardScaler\n",
    "\n",
    "std = StandardScaler()\n",
    "\n",
    "dummy_height = std.fit_transform(df_one[\"height\"])\n",
    "\n",
    "print(dummy_height)\n",
    "'''"
   ]
  },
  {
   "cell_type": "code",
   "execution_count": 75,
   "metadata": {},
   "outputs": [
    {
     "name": "stdout",
     "output_type": "stream",
     "text": [
      "       diet_anything  diet_halal  diet_kosher  diet_mostly anything  \\\n",
      "0                  0           0            0                     0   \n",
      "1                  0           0            0                     0   \n",
      "7                  0           0            0                     1   \n",
      "9                  0           0            0                     1   \n",
      "11                 0           0            0                     1   \n",
      "...              ...         ...          ...                   ...   \n",
      "59931              0           0            0                     0   \n",
      "59936              0           0            0                     1   \n",
      "59942              0           0            0                     1   \n",
      "59943              0           0            0                     1   \n",
      "59944              0           0            0                     1   \n",
      "\n",
      "       diet_mostly halal  diet_mostly kosher  diet_mostly other  \\\n",
      "0                      0                   0                  0   \n",
      "1                      0                   0                  1   \n",
      "7                      0                   0                  0   \n",
      "9                      0                   0                  0   \n",
      "11                     0                   0                  0   \n",
      "...                  ...                 ...                ...   \n",
      "59931                  0                   0                  0   \n",
      "59936                  0                   0                  0   \n",
      "59942                  0                   0                  0   \n",
      "59943                  0                   0                  0   \n",
      "59944                  0                   0                  0   \n",
      "\n",
      "       diet_mostly vegan  diet_mostly vegetarian  diet_other  ...  smokes_yes  \\\n",
      "0                      0                       0           0  ...           0   \n",
      "1                      0                       0           0  ...           0   \n",
      "7                      0                       0           0  ...           0   \n",
      "9                      0                       0           0  ...           0   \n",
      "11                     0                       0           0  ...           0   \n",
      "...                  ...                     ...         ...  ...         ...   \n",
      "59931                  0                       0           0  ...           0   \n",
      "59936                  0                       0           0  ...           0   \n",
      "59942                  0                       0           0  ...           0   \n",
      "59943                  0                       0           0  ...           0   \n",
      "59944                  0                       0           0  ...           0   \n",
      "\n",
      "       asian  white  black  other  hispanic / latin  pacific islander  \\\n",
      "0          1      1      0      0                 0                 0   \n",
      "1          0      1      0      0                 0                 0   \n",
      "7          0      1      0      0                 0                 0   \n",
      "9          0      1      0      0                 0                 0   \n",
      "11         0      1      0      0                 0                 0   \n",
      "...      ...    ...    ...    ...               ...               ...   \n",
      "59931      0      0      0      0                 0                 0   \n",
      "59936      1      0      0      0                 0                 0   \n",
      "59942      0      1      0      1                 0                 0   \n",
      "59943      1      0      0      0                 0                 0   \n",
      "59944      1      0      1      0                 0                 0   \n",
      "\n",
      "       native american  middle eastern  indian  \n",
      "0                    0               0       0  \n",
      "1                    0               0       0  \n",
      "7                    0               0       0  \n",
      "9                    0               0       0  \n",
      "11                   0               0       0  \n",
      "...                ...             ...     ...  \n",
      "59931                0               0       1  \n",
      "59936                0               0       0  \n",
      "59942                0               0       0  \n",
      "59943                0               0       0  \n",
      "59944                0               0       0  \n",
      "\n",
      "[18436 rows x 41 columns]\n",
      "0         agnosticism\n",
      "1         agnosticism\n",
      "7        christianity\n",
      "9             atheism\n",
      "11       christianity\n",
      "             ...     \n",
      "59931     agnosticism\n",
      "59936         atheism\n",
      "59942     agnosticism\n",
      "59943    christianity\n",
      "59944     agnosticism\n",
      "Name: religion_cleaned, Length: 18436, dtype: object\n"
     ]
    }
   ],
   "source": [
    "print(x_two)\n",
    "print(y_two)"
   ]
  },
  {
   "cell_type": "markdown",
   "metadata": {},
   "source": [
    "After that, we split the data into train & test data."
   ]
  },
  {
   "cell_type": "code",
   "execution_count": 76,
   "metadata": {},
   "outputs": [],
   "source": [
    "from sklearn.model_selection import train_test_split\n",
    "\n",
    "x_train_two, x_test_two, y_train_two, y_test_two = train_test_split(x_two, y_two, test_size=0.25, random_state=8)"
   ]
  },
  {
   "cell_type": "markdown",
   "metadata": {},
   "source": [
    "This time, we will use different models and test the accuracy in predicting religions of users.\n",
    "\n",
    "First, we try to classify using K-Nearest Neighbor. This time, we will test with multiple k values and use the optimum k value for the final predictions."
   ]
  },
  {
   "cell_type": "code",
   "execution_count": 81,
   "metadata": {},
   "outputs": [
    {
     "data": {
      "image/png": "[encoded data removed]",
      "text/plain": [
       "<Figure size 432x288 with 1 Axes>"
      ]
     },
     "metadata": {
      "needs_background": "light"
     },
     "output_type": "display_data"
    }
   ],
   "source": [
    "from sklearn.neighbors import KNeighborsClassifier\n",
    "\n",
    "scores = []\n",
    "for i in range(3, 15):\n",
    "    k_model_two = KNeighborsClassifier(n_neighbors=i)\n",
    "    k_model_two.fit(x_train_two, y_train_two)\n",
    "    scores.append(k_model_two.score(x_train_two, y_train_two))\n",
    "plt.plot(range(3,15), scores)\n",
    "plt.show()"
   ]
  },
  {
   "cell_type": "markdown",
   "metadata": {},
   "source": [
    "According to the graph above, the optimum k value is 4. Now, we use this k value to build our final K-Nearest Neighbor model and check for the f1-scores and confusion matrix."
   ]
  },
  {
   "cell_type": "code",
   "execution_count": 82,
   "metadata": {},
   "outputs": [
    {
     "data": {
      "text/plain": [
       "KNeighborsClassifier(n_neighbors=4)"
      ]
     },
     "execution_count": 82,
     "metadata": {},
     "output_type": "execute_result"
    }
   ],
   "source": [
    "k_model_two = KNeighborsClassifier(n_neighbors=4)\n",
    "k_model_two.fit(x_train_two, y_train_two)"
   ]
  },
  {
   "cell_type": "code",
   "execution_count": 88,
   "metadata": {},
   "outputs": [
    {
     "name": "stdout",
     "output_type": "stream",
     "text": [
      "              precision    recall  f1-score   support\n",
      "\n",
      " agnosticism       0.24      0.40      0.30       993\n",
      "     atheism       0.22      0.37      0.28       797\n",
      "    buddhism       0.07      0.01      0.02       217\n",
      " catholicism       0.44      0.21      0.28       572\n",
      "christianity       0.26      0.20      0.23       760\n",
      "    hinduism       0.54      0.52      0.53        71\n",
      "       islam       0.50      0.05      0.10        19\n",
      "     judaism       0.11      0.02      0.03       281\n",
      "       other       0.26      0.18      0.21       899\n",
      "\n",
      "    accuracy                           0.25      4609\n",
      "   macro avg       0.29      0.22      0.22      4609\n",
      "weighted avg       0.26      0.25      0.24      4609\n",
      "\n",
      "[[394 316   8  32 110   9   0   7 117]\n",
      " [313 294   5  16  57   4   0   8 100]\n",
      " [ 63  67   3   3  42   1   0   0  38]\n",
      " [189 123   5 119  82   1   0   5  48]\n",
      " [262 177   8  57 150   2   0   9  95]\n",
      " [  8  16   1   1   0  37   0   0   8]\n",
      " [  8   1   0   1   1   1   1   0   6]\n",
      " [123  93   0   4  13   0   0   5  43]\n",
      " [308 243  11  38 113  14   1  10 161]]\n",
      "['agnosticism' 'atheism' 'buddhism' 'catholicism' 'christianity'\n",
      " 'hinduism' 'islam' 'judaism' 'other']\n"
     ]
    }
   ],
   "source": [
    "from sklearn.metrics import classification_report, confusion_matrix\n",
    "\n",
    "predictions_two_k_model = k_model_two.predict(x_test_two)\n",
    "\n",
    "print(classification_report(y_test_two, predictions_two_k_model))\n",
    "print(confusion_matrix(y_test_two, predictions_two_k_model, labels=k_model_two.classes_))\n",
    "print(k_model_two.classes_)"
   ]
  },
  {
   "cell_type": "code",
   "execution_count": 91,
   "metadata": {},
   "outputs": [
    {
     "data": {
      "text/plain": [
       "DecisionTreeClassifier()"
      ]
     },
     "execution_count": 91,
     "metadata": {},
     "output_type": "execute_result"
    }
   ],
   "source": [
    "from sklearn.tree import DecisionTreeClassifier\n",
    "\n",
    "tree_model_two = DecisionTreeClassifier()\n",
    "tree_model_two.fit(x_train_two, y_train_two)"
   ]
  },
  {
   "cell_type": "code",
   "execution_count": 92,
   "metadata": {},
   "outputs": [
    {
     "name": "stdout",
     "output_type": "stream",
     "text": [
      "              precision    recall  f1-score   support\n",
      "\n",
      " agnosticism       0.23      0.51      0.32       993\n",
      "     atheism       0.26      0.18      0.22       797\n",
      "    buddhism       0.06      0.02      0.03       217\n",
      " catholicism       0.38      0.23      0.29       572\n",
      "christianity       0.31      0.21      0.25       760\n",
      "    hinduism       0.50      0.62      0.55        71\n",
      "       islam       0.50      0.26      0.34        19\n",
      "     judaism       0.22      0.02      0.04       281\n",
      "       other       0.30      0.27      0.28       899\n",
      "\n",
      "    accuracy                           0.27      4609\n",
      "   macro avg       0.31      0.26      0.26      4609\n",
      "weighted avg       0.28      0.27      0.25      4609\n",
      "\n",
      "[[509 150  10  52 100  14   0   4 154]\n",
      " [419 147  12  36  51   6   0   2 124]\n",
      " [102  15   4   7  43   2   0   0  44]\n",
      " [256  33  11 134  71   1   0   2  64]\n",
      " [359  46   9  65 159   4   3   3 112]\n",
      " [  9   8   2   2   0  44   0   1   5]\n",
      " [  4   4   0   1   0   0   5   1   4]\n",
      " [173  29   2   3   6   0   0   6  62]\n",
      " [358 126  15  49  85  17   2   8 239]]\n",
      "['agnosticism' 'atheism' 'buddhism' 'catholicism' 'christianity'\n",
      " 'hinduism' 'islam' 'judaism' 'other']\n"
     ]
    }
   ],
   "source": [
    "from sklearn.metrics import classification_report, confusion_matrix\n",
    "\n",
    "predictions_two_tree = tree_model_two.predict(x_test_two)\n",
    "\n",
    "print(classification_report(y_test_two, predictions_two_tree))\n",
    "print(confusion_matrix(y_test_two, predictions_two_tree, labels=tree_model_two.classes_))\n",
    "print(tree_model_two.classes_)"
   ]
  },
  {
   "cell_type": "code",
   "execution_count": null,
   "metadata": {},
   "outputs": [],
   "source": []
  }
 ],
 "metadata": {
  "kernelspec": {
   "display_name": "Python 3",
   "language": "python",
   "name": "python3"
  },
  "language_info": {
   "codemirror_mode": {
    "name": "ipython",
    "version": 3
   },
   "file_extension": ".py",
   "mimetype": "text/x-python",
   "name": "python",
   "nbconvert_exporter": "python",
   "pygments_lexer": "ipython3",
   "version": "3.8.3"
  }
 },
 "nbformat": 4,
 "nbformat_minor": 4
}
